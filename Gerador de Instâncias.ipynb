{
 "cells": [
  {
   "cell_type": "markdown",
   "metadata": {
    "id": "np9AFCA315XB"
   },
   "source": [
    "# Sensor, *Fog* and *Cloud* instance generator: **Antwerp** databse\n",
    "## Multiperiods and multiservices\n",
    "\n",
    "**Authors**:  \n",
    "*Mayron César O. Moreira* - UFLA  \n",
    "*Samuel Moreira Abreu Araújo* - UFSJ  \n",
    "*Geraldo Robson Mateus* - UFMG  \n"
   ]
  },
  {
   "cell_type": "markdown",
   "metadata": {
    "id": "jYbDzIqq608x"
   },
   "source": [
    "## Importing libraries"
   ]
  },
  {
   "cell_type": "code",
   "execution_count": 1,
   "metadata": {
    "colab": {
     "background_save": true
    },
    "executionInfo": {
     "elapsed": 3553,
     "status": "ok",
     "timestamp": 1745610159852,
     "user": {
      "displayName": "RHUAN CAMPIDELI BORGES",
      "userId": "09818021635254161805"
     },
     "user_tz": 180
    },
    "id": "H80uaqj36cUC"
   },
   "outputs": [],
   "source": [
    "import numpy as np\n",
    "from scipy.spatial import ConvexHull\n",
    "import matplotlib.pyplot as plt\n",
    "#import folium\n",
    "import random as rd\n",
    "import math\n",
    "import sys\n",
    "import os\n",
    "import networkx as nx"
   ]
  },
  {
   "cell_type": "markdown",
   "metadata": {
    "id": "sLcB7MmPfrDi"
   },
   "source": [
    "## Parameters defined by user"
   ]
  },
  {
   "cell_type": "markdown",
   "metadata": {
    "id": "zwzvRCswfxA4"
   },
   "source": [
    "### Number of sensors"
   ]
  },
  {
   "cell_type": "code",
   "execution_count": 2,
   "metadata": {
    "colab": {
     "background_save": true
    },
    "executionInfo": {
     "elapsed": 5,
     "status": "ok",
     "timestamp": 1745610281034,
     "user": {
      "displayName": "RHUAN CAMPIDELI BORGES",
      "userId": "09818021635254161805"
     },
     "user_tz": 180
    },
    "id": "iSBuQz2pfy9f"
   },
   "outputs": [],
   "source": [
    "# n_sensors = int(sys.argv[1])\n",
    "n_sensors = 20"
   ]
  },
  {
   "cell_type": "markdown",
   "metadata": {
    "id": "s1cLbhoMfuno"
   },
   "source": [
    "### Time window"
   ]
  },
  {
   "cell_type": "code",
   "execution_count": 3,
   "metadata": {
    "colab": {
     "background_save": true
    },
    "executionInfo": {
     "elapsed": 42,
     "status": "ok",
     "timestamp": 1745610635139,
     "user": {
      "displayName": "RHUAN CAMPIDELI BORGES",
      "userId": "09818021635254161805"
     },
     "user_tz": 180
    },
    "id": "MqXBBX0VfvCK"
   },
   "outputs": [],
   "source": [
    "time_window = 1000"
   ]
  },
  {
   "cell_type": "markdown",
   "metadata": {
    "id": "C6us_yCuz3hl"
   },
   "source": [
    "### $\\lambda$ parameter for selecting sensors (Poisson distribution)\n",
    "\n",
    "* *low*: $10\\%-30\\%$;   \n",
    "* *medium*: $30\\%-70\\%$;    \n",
    "* *high*: $70\\%-90\\%$.    "
   ]
  },
  {
   "cell_type": "code",
   "execution_count": 4,
   "metadata": {
    "colab": {
     "background_save": true
    },
    "executionInfo": {
     "elapsed": 19,
     "status": "ok",
     "timestamp": 1745610286714,
     "user": {
      "displayName": "RHUAN CAMPIDELI BORGES",
      "userId": "09818021635254161805"
     },
     "user_tz": 180
    },
    "id": "0c7dw_l90BRq"
   },
   "outputs": [],
   "source": [
    "avg_level_for_selecting_sensors = {\n",
    "    'low': [0.1, 0.3],\n",
    "    'medium': [0.3,0.7],\n",
    "    'high': [0.7,0.9]\n",
    "}\n",
    "#level_for_selecting_sensor = sys.argv[2]\n",
    "level_for_selecting_sensor = \"low\"\n",
    "lambda_parameter_for_selecting_sensors = avg_level_for_selecting_sensors[level_for_selecting_sensor]"
   ]
  },
  {
   "cell_type": "markdown",
   "metadata": {
    "id": "KFpXghFu1zPA"
   },
   "source": [
    "### $\\lambda$ parameter for selecting quantity of services by sensors (Poisson distribution)\n",
    "\n",
    "* *low*: $10\\%-30\\%$;   \n",
    "* *medium*: $30\\%-70\\%$;    \n",
    "* *high*: $70\\%-90\\%$.    "
   ]
  },
  {
   "cell_type": "code",
   "execution_count": 5,
   "metadata": {
    "colab": {
     "background_save": true
    },
    "executionInfo": {
     "elapsed": 11,
     "status": "ok",
     "timestamp": 1745610293965,
     "user": {
      "displayName": "RHUAN CAMPIDELI BORGES",
      "userId": "09818021635254161805"
     },
     "user_tz": 180
    },
    "id": "F8oChUMi16qv"
   },
   "outputs": [],
   "source": [
    "avg_level_for_selecting_services = {\n",
    "    'low': [0.1, 0.3],\n",
    "    'medium': [0.3,0.7],\n",
    "    'high': [0.7,0.9]\n",
    "}\n",
    "#level_for_selecting_services = sys.argv[3]\n",
    "level_for_selecting_services = \"low\"\n",
    "lambda_parameter_for_selecting_services = avg_level_for_selecting_services[level_for_selecting_services]"
   ]
  },
  {
   "cell_type": "markdown",
   "metadata": {
    "id": "Ck2rfXZZHwMm"
   },
   "source": [
    "### Wireless technologies\n",
    "\n",
    "| Network | Highlights and applications | Average bandwidth¹ | Coverage radius¹ |\n",
    "|---------|------------------------------|---------------------|------------------|\n",
    "| 1G - 1980 | Analog networks for voice calls | 2 Kbps | 20 km |\n",
    "| 2G - 1990 | Digital networks, support for text messages, etc | 40 Kbps | 10 km |\n",
    "| 3G - 2000 | Broadband, multimedia, video calls, etc | 1 Mbps | 5 Km |\n",
    "| 4G - 2010 | Enhanced broadband, video streaming, IoT, etc | 10 Mbps | 3 Km |\n",
    "| 5G - 2020 | High-bandwidth services, ultra-reliable low-latency communication, software-defined networks, Virtual Reality applications, etc | 120 Mbps | 0.6 Km |\n",
    "| 6G - 2030 | Towards the Internet of Everything, the era of artificial intelligence, extended reality applications, holographic telepresence, hyper-intelligent IoT, collaborative robots, etc | 1 Gbps | 0.32 Km |\n",
    "\n",
    "¹ The average bandwidth and coverage are influenced by various factors, including frequency and interferences. The provided values are approximations based on the works (Alsabah et al., 2021; Alwis et al., 2021; Four-Faith, 2022; Shah et al., 2021).\n"
   ]
  },
  {
   "cell_type": "code",
   "execution_count": 6,
   "metadata": {
    "colab": {
     "background_save": true
    },
    "executionInfo": {
     "elapsed": 20,
     "status": "ok",
     "timestamp": 1745610297847,
     "user": {
      "displayName": "RHUAN CAMPIDELI BORGES",
      "userId": "09818021635254161805"
     },
     "user_tz": 180
    },
    "id": "_MreIgv0lrhb"
   },
   "outputs": [],
   "source": [
    "# in Gbps\n",
    "wireless_technologies = [\"2G\", \"3G\", \"4G\", \"5G\", \"6G\", \"misc\"]\n",
    "\n",
    "wireless_bandwidth = {\n",
    "    \"2G\": 0.00004,\n",
    "    \"3G\": 0.001,\n",
    "    \"4G\": 0.01,\n",
    "    \"5G\": 0.12,\n",
    "    \"6G\": 1.0\n",
    "}\n",
    "\n",
    "# in meters\n",
    "wireless_coverage_radius_in_meters = {\n",
    "    \"2G\": 10000,\n",
    "    \"3G\": 5000,\n",
    "    \"4G\": 3000,\n",
    "    \"5G\": 600,\n",
    "    \"6G\": 320\n",
    "}"
   ]
  },
  {
   "cell_type": "markdown",
   "metadata": {
    "id": "elaRnrNUodne"
   },
   "source": [
    "#### Sensor bandwidth dictionary"
   ]
  },
  {
   "cell_type": "code",
   "execution_count": 7,
   "metadata": {
    "colab": {
     "background_save": true
    },
    "executionInfo": {
     "elapsed": 21,
     "status": "ok",
     "timestamp": 1745610302277,
     "user": {
      "displayName": "RHUAN CAMPIDELI BORGES",
      "userId": "09818021635254161805"
     },
     "user_tz": 180
    },
    "id": "V4tRO_hyo5K3"
   },
   "outputs": [],
   "source": [
    "wireless_technology_chosen = \"4G\"\n",
    "#wireless_technology_chosen = sys.argv[4]\n",
    "if(wireless_technology_chosen not in wireless_technologies):\n",
    "  wireless_technology_chosen = wireless_technologies[2]"
   ]
  },
  {
   "cell_type": "markdown",
   "metadata": {
    "id": "tpAwwJi7urFZ"
   },
   "source": [
    "### Fog/Cloud network connection density level\n",
    "\n"
   ]
  },
  {
   "cell_type": "code",
   "execution_count": 8,
   "metadata": {
    "colab": {
     "background_save": true
    },
    "executionInfo": {
     "elapsed": 53,
     "status": "ok",
     "timestamp": 1745610305593,
     "user": {
      "displayName": "RHUAN CAMPIDELI BORGES",
      "userId": "09818021635254161805"
     },
     "user_tz": 180
    },
    "id": "ppinpdhGu1QX"
   },
   "outputs": [],
   "source": [
    "probability_of_fog_cloud_nodes_connection = {\n",
    "    'low': 0.1,\n",
    "    'medium': 0.5,\n",
    "    'high': 0.9\n",
    "}\n",
    "#fog_fog_nodes_connection_choice = sys.argv[5]\n",
    "#fog_cloud_nodes_connection_choice = sys.argv[6]\n",
    "fog_fog_nodes_connection_choice = \"low\"\n",
    "fog_cloud_nodes_connection_choice = \"low\"\n",
    "FOG_CONNECTION_PROBABILITY = probability_of_fog_cloud_nodes_connection[fog_fog_nodes_connection_choice]\n",
    "CLOUD_CONNECTION_PROBABILITY = probability_of_fog_cloud_nodes_connection[fog_cloud_nodes_connection_choice]"
   ]
  },
  {
   "cell_type": "markdown",
   "metadata": {
    "id": "jr9I5g1rIbYp"
   },
   "source": [
    "### Instance ID"
   ]
  },
  {
   "cell_type": "code",
   "execution_count": 9,
   "metadata": {
    "colab": {
     "background_save": true
    },
    "executionInfo": {
     "elapsed": 10,
     "status": "ok",
     "timestamp": 1745610308347,
     "user": {
      "displayName": "RHUAN CAMPIDELI BORGES",
      "userId": "09818021635254161805"
     },
     "user_tz": 180
    },
    "id": "GRkkET8dIc18"
   },
   "outputs": [],
   "source": [
    "#instance_ID = int(sys.argv[7])\n",
    "#instance_ID = 0"
   ]
  },
  {
   "cell_type": "markdown",
   "metadata": {
    "id": "S26wzI9cE6N8"
   },
   "source": [
    "## Reference points\n",
    "\n",
    "| Region ID  | Name |   Description | Services |\n",
    "| :--------- | :--------- | :--------- | :--------- |\n",
    "1 | Port area | Port cargo handling area | *waste* (high), *camera* (moderate), *air* (high)\n",
    "2 | Grote Markt | Touristic region | *waste* (high), *camera* (high), *air* (moderate)\n",
    "3 | Zoo Antwerpen | Recreation and pedestrian circulation | *waste* (high), *camera* (moderate), *air* (low)\n",
    "4 | Luchthaven Antwerpen | People flow; hospital | *waste* (moderate), *camera* (high), *air* (high)\n",
    "5 | Faculty of Applied Engineering | People flow; hospital | *waste* (moderate), *camera* (high), *air* (low)\n",
    "| | |\n",
    "\n",
    "| Region ID  | Bounds  |  \n",
    "| :--------- | :--------- |  \n",
    "1 | (51.24468472323838, 4.409597070924777), (51.28850722394544, 4.393117578551932), (51.25478478844565, 4.354665429681959)   \n",
    "2 | (51.22617381833156, 4.399406371959821), (51.225099, 4.414169), (51.211067, 4.406015), (51.203808, 4.384214), (51.208271, 4.384729)   \n",
    "3 | (51.221279, 4.417131), (51.210186, 4.408558), (51.200626, 4.414529), (51.218179, 4.428512)   \n",
    "4 | (51.213430, 4.451353), (51.17932963353455, 4.4417398839160525), (51.17932963353455, 4.466630783854205), (51.21020391237721, 4.489290085866867)   \n",
    "5 | (51.18962903393958, 4.410505163396242), (51.18285049873252, 4.391794073097907), (51.17364946330412, 4.389004575681392), (51.17351493162472, 4.413637983551219), (51.18290430053395, 4.416770803667099)\n",
    "| |  \n",
    "\n",
    "| Place  | Characterictic |   (lat,lon)        | Region ID  \n",
    "| :--------- | :--------- | :--------- | :--------- |\n",
    "**Port of Antwerp International** | Port | (51.24468472323838, 4.409597070924777) | 1\n",
    "Put van Ekeren | Natural reserve | (51.28850722394544, 4.393117578551932) | 1\n",
    "Vopak Terminal Eurotank | Depot | (51.25478478844565, 4.354665429681959) | 1  \n",
    "| | |\n",
    "**Grote Markt** | Market | (51.22261836485071, 4.399789050587303) | 2  \n",
    "Plantin-Moretus | Museum | (51.21950044460592, 4.397557452661814) | 2  \n",
    "Onze-Lieve-Vrouwekathedraal | Cathedral | (51.22106255764579, 4.4014755576514295) | 2\n",
    "Universiteit Antwerpen (Prinsstraat) | University | (51.22365158898595, 4.410202582222291) | 2\n",
    "Faculteit Letteren en Wijsbegeerte | University | (51.222242915305245, 4.410983280580201) | 2\n",
    "UAntwerpen Faculteit Sociale | University | (51.22143657029032, 4.409438328170246) | 2\n",
    "| | |\n",
    "**Zoo Antwerpen** | Zoo | (51.21680503702301, 4.4254052592802156) | 3\n",
    "Antwerp Business School | University | (51.21918444072911, 4.420502350843398) | 3\n",
    "Antwerp Central Train Station | Station | (51.217347535261005, 4.421183038214594) | 3\n",
    "Stadspark | Park | (51.21234639567679, 4.414925822930287) | 3\n",
    "| | |\n",
    "**Luchthaven Antwerpen** | Airport | (51.19039399730772, 4.461440932566946) | 4\n",
    "Boekenbergpark | Park | (51.199000353121455, 4.462991551276801) | 4\n",
    "AZ Monica Deurne | Hospital | (51.20728219114087, 4.470029667790763) | 4\n",
    "| | |\n",
    "**Faculty of Applied Engineering** | University | (51.179361822078775, 4.4153154215211305) | 5\n",
    "Middelheim Museum | Museum | (51.18145433403806, 4.412948454482137) | 5\n",
    "Consulaat Generaal van Turkije | Consulate | (51.17975324780296, 4.399410381235565) | 5\n",
    "Antwerp University Hospital | Hospital | (51.157665857404005, 4.411433489841647) | 5"
   ]
  },
  {
   "cell_type": "code",
   "execution_count": 10,
   "metadata": {
    "colab": {
     "background_save": true
    },
    "executionInfo": {
     "elapsed": 34,
     "status": "ok",
     "timestamp": 1745610311354,
     "user": {
      "displayName": "RHUAN CAMPIDELI BORGES",
      "userId": "09818021635254161805"
     },
     "user_tz": 180
    },
    "id": "uOop1gzu13nc"
   },
   "outputs": [],
   "source": [
    "coordinates = [[51.24468472323838, 4.409597070924777], [51.28850722394544, 4.393117578551932], [51.25478478844565, 4.354665429681959],\n",
    " [51.22261836485071, 4.399789050587303], [51.21950044460592, 4.397557452661814], [51.22106255764579, 4.4014755576514295], [51.22365158898595, 4.410202582222291], [51.222242915305245, 4.410983280580201], [51.22143657029032, 4.409438328170246],\n",
    " [51.21680503702301, 4.4254052592802156], [51.21918444072911, 4.420502350843398], [51.217347535261005, 4.421183038214594], [51.21234639567679, 4.414925822930287],\n",
    " [51.19039399730772, 4.461440932566946], [51.199000353121455, 4.462991551276801], [51.20728219114087, 4.470029667790763],\n",
    " [51.179361822078775, 4.4153154215211305], [51.18145433403806, 4.412948454482137], [51.17975324780296, 4.399410381235565], \t[51.157665857404005, 4.411433489841647]]\n",
    "\n",
    "region1 = np.array([[51.24468472323838, 4.409597070924777], [51.28850722394544, 4.393117578551932], [51.25478478844565, 4.354665429681959]])\n",
    "region2 = np.array([[51.22261836485071, 4.399789050587303], [51.21950044460592, 4.397557452661814], [51.22106255764579, 4.4014755576514295], [51.22365158898595, 4.410202582222291], [51.222242915305245, 4.410983280580201], [51.22143657029032, 4.409438328170246]])\n",
    "region3 = np.array([[51.21680503702301, 4.4254052592802156], [51.21918444072911, 4.420502350843398], [51.217347535261005, 4.421183038214594], [51.21234639567679, 4.414925822930287]])\n",
    "region4 = np.array([[51.19039399730772, 4.461440932566946], [51.199000353121455, 4.462991551276801], [51.20728219114087, 4.470029667790763]])\n",
    "region5 = np.array([[51.179361822078775, 4.4153154215211305], [51.18145433403806, 4.412948454482137], [51.17975324780296, 4.399410381235565], [51.157665857404005, 4.411433489841647]])"
   ]
  },
  {
   "cell_type": "code",
   "execution_count": 11,
   "metadata": {
    "colab": {
     "background_save": true,
     "base_uri": "https://localhost:8080/",
     "height": 394
    },
    "executionInfo": {
     "elapsed": 330,
     "status": "ok",
     "timestamp": 1745610314016,
     "user": {
      "displayName": "RHUAN CAMPIDELI BORGES",
      "userId": "09818021635254161805"
     },
     "user_tz": 180
    },
    "id": "Fpr3DztzBfsl"
   },
   "outputs": [
    {
     "data": {
      "text/plain": [
       "\"generated_map = folium.Map(location=[coordinates[0][0], coordinates[0][1]], zoom_start=11)\\n\\nfor coordinate in coordinates:\\n  icon = None\\n  popup_text = str(coordinate)\\n  if(coordinate in region1):\\n    icon = folium.Icon(color='blue')\\n\\n  elif(coordinate in region2):\\n    icon = folium.Icon(color='green')\\n\\n  elif(coordinate in region3):\\n    icon = folium.Icon(color='gray')\\n\\n  elif(coordinate in region5):\\n    icon = folium.Icon(color='black')\\n\\n  else:\\n    icon = folium.Icon(color='red')\\n  folium.Marker(location=coordinate, icon=icon).add_to(generated_map)\\n\\n# Save the map to an HTML file or display it in your Jupyter Notebook\\ngenerated_map.save(str(instance_ID) + '_map.html')\\ngenerated_map\""
      ]
     },
     "execution_count": 11,
     "metadata": {},
     "output_type": "execute_result"
    }
   ],
   "source": [
    "# centering the folium map at the coordinates of first cloud node\n",
    "'''generated_map = folium.Map(location=[coordinates[0][0], coordinates[0][1]], zoom_start=11)\n",
    "\n",
    "for coordinate in coordinates:\n",
    "  icon = None\n",
    "  popup_text = str(coordinate)\n",
    "  if(coordinate in region1):\n",
    "    icon = folium.Icon(color='blue')\n",
    "\n",
    "  elif(coordinate in region2):\n",
    "    icon = folium.Icon(color='green')\n",
    "\n",
    "  elif(coordinate in region3):\n",
    "    icon = folium.Icon(color='gray')\n",
    "\n",
    "  elif(coordinate in region5):\n",
    "    icon = folium.Icon(color='black')\n",
    "\n",
    "  else:\n",
    "    icon = folium.Icon(color='red')\n",
    "  folium.Marker(location=coordinate, icon=icon).add_to(generated_map)\n",
    "\n",
    "# Save the map to an HTML file or display it in your Jupyter Notebook\n",
    "generated_map.save(str(instance_ID) + '_map.html')\n",
    "generated_map'''"
   ]
  },
  {
   "cell_type": "markdown",
   "metadata": {
    "id": "y-K_uSHb69AI"
   },
   "source": [
    "## Set of points to represent the bounds of each region"
   ]
  },
  {
   "cell_type": "code",
   "execution_count": 12,
   "metadata": {
    "colab": {
     "background_save": true
    },
    "executionInfo": {
     "elapsed": 35,
     "status": "ok",
     "timestamp": 1745610317947,
     "user": {
      "displayName": "RHUAN CAMPIDELI BORGES",
      "userId": "09818021635254161805"
     },
     "user_tz": 180
    },
    "id": "0aywIXO5568H"
   },
   "outputs": [],
   "source": [
    "region1_bounds = np.array([[51.24468472323838, 4.409597070924777], [51.28850722394544, 4.393117578551932], [51.25478478844565, 4.354665429681959]])\n",
    "region2_bounds = np.array([[51.22617381833156, 4.399406371959821], [51.225099, 4.414169], [51.211067, 4.406015], [51.203808, 4.384214], [51.208271, 4.384729]])\n",
    "region3_bounds = np.array([[51.221279, 4.417131], [51.210186, 4.408558], [51.200626, 4.414529], [51.218179, 4.428512]])\n",
    "region4_bounds = np.array([[51.213430, 4.451353], [51.17932963353455, 4.4417398839160525], [51.17932963353455, 4.466630783854205], [51.21020391237721, 4.489290085866867]])\n",
    "region5_bounds = np.array([[51.18962903393958, 4.410505163396242], [51.18285049873252, 4.391794073097907], [51.17364946330412, 4.389004575681392], [51.17351493162472, 4.413637983551219], [51.18290430053395, 4.416770803667099]])"
   ]
  },
  {
   "cell_type": "markdown",
   "metadata": {
    "id": "o38d1hs9egzW"
   },
   "source": [
    "## Quantity of nodes generated\n",
    "\n",
    "* **Number of sensors and number of maximum fog nodes:**\n",
    "  * 100 sensors, 10 fog nodes.  \n",
    "  * 200 sensors, 20 fog nodes.  \n",
    "  * 500 sensors, 50 fog nodes.  \n"
   ]
  },
  {
   "cell_type": "markdown",
   "metadata": {
    "id": "k69-QDW27ksG"
   },
   "source": [
    "## Auxiliary functions\n",
    "\n",
    "* Calculate convex hull of points.  \n",
    "* Verify if a point is inside its corresponding convex hull."
   ]
  },
  {
   "cell_type": "code",
   "execution_count": 13,
   "metadata": {
    "colab": {
     "background_save": true
    },
    "executionInfo": {
     "elapsed": 29,
     "status": "ok",
     "timestamp": 1745610324375,
     "user": {
      "displayName": "RHUAN CAMPIDELI BORGES",
      "userId": "09818021635254161805"
     },
     "user_tz": 180
    },
    "id": "QcWLSvhO7oZI"
   },
   "outputs": [],
   "source": [
    "def is_point_inside_polygon(point, polygon):\n",
    "    # Ray casting algorithm\n",
    "    n = len(polygon)\n",
    "    inside = False\n",
    "    p1x, p1y = polygon[0]\n",
    "    for i in range(n + 1):\n",
    "        p2x, p2y = polygon[i % n]\n",
    "        if point[1] > min(p1y, p2y):\n",
    "            if point[1] <= max(p1y, p2y):\n",
    "                if point[0] <= max(p1x, p2x):\n",
    "                    if p1y != p2y:\n",
    "                        xinters = (point[1] - p1y) * (p2x - p1x) / (p2y - p1y) + p1x\n",
    "                    if p1x == p2x or point[0] <= xinters:\n",
    "                        inside = not inside\n",
    "        p1x, p1y = p2x, p2y\n",
    "    return inside\n",
    "\n",
    "def generate_points_in_polygon(points, num_points):\n",
    "    # Compute convex hull\n",
    "    hull = ConvexHull(points)\n",
    "    # Get vertices of convex hull\n",
    "    hull_vertices = points[hull.vertices]\n",
    "\n",
    "    # Generate random points inside convex hull\n",
    "    min_x, min_y = np.min(hull_vertices, axis=0)\n",
    "    max_x, max_y = np.max(hull_vertices, axis=0)\n",
    "\n",
    "    random_points = []\n",
    "    while len(random_points) < num_points:\n",
    "        x = np.random.uniform(min_x, max_x)\n",
    "        y = np.random.uniform(min_y, max_y)\n",
    "        point = np.array([x, y])\n",
    "        if is_point_inside_polygon(point, hull_vertices):\n",
    "            random_points.append(point)\n",
    "\n",
    "    return np.array(random_points)"
   ]
  },
  {
   "cell_type": "markdown",
   "metadata": {
    "id": "QWzjpvo_6EOH"
   },
   "source": [
    "## Number of regions"
   ]
  },
  {
   "cell_type": "code",
   "execution_count": 14,
   "metadata": {
    "colab": {
     "background_save": true
    },
    "executionInfo": {
     "elapsed": 23,
     "status": "ok",
     "timestamp": 1745610328444,
     "user": {
      "displayName": "RHUAN CAMPIDELI BORGES",
      "userId": "09818021635254161805"
     },
     "user_tz": 180
    },
    "id": "sfH2Wdt86Frd"
   },
   "outputs": [],
   "source": [
    "n_regions = 5\n",
    "n_sensor_per_region = n_fog_per_region = 0"
   ]
  },
  {
   "cell_type": "markdown",
   "metadata": {
    "id": "wtrv9Kna-Ley"
   },
   "source": [
    "## Elementary node structure"
   ]
  },
  {
   "cell_type": "code",
   "execution_count": 15,
   "metadata": {
    "colab": {
     "background_save": true
    },
    "executionInfo": {
     "elapsed": 20,
     "status": "ok",
     "timestamp": 1745610331948,
     "user": {
      "displayName": "RHUAN CAMPIDELI BORGES",
      "userId": "09818021635254161805"
     },
     "user_tz": 180
    },
    "id": "jDijDC-q-OIX"
   },
   "outputs": [],
   "source": [
    "class NetworkNode:\n",
    "  ID = None\n",
    "  latitude = None\n",
    "  longitude = None"
   ]
  },
  {
   "cell_type": "markdown",
   "metadata": {
    "id": "6SIgJwzc4lIb"
   },
   "source": [
    "## Fog nodes\n",
    "\n",
    "We consider data extracted from [\"*José Santos, Tim Wauters, Bruno Volckaert, and Filip De Turck. 2021. Towards end-to-end resource provisioning in Fog Computing over Low Power Wide Area Networks. Journal of Network and Computer Applications 175 (2021), 102915.*\"](https://www.sciencedirect.com/science/article/abs/pii/S108480452030374X).  \n",
    "\n",
    "* For fog servers reference: [cisco.com](https://www.cisco.com/c/dam/en/us/products/collateral/hyperconverged-infrastructure/hyperflex-hx-series/hyperflex-hx220-m6-edge-spec-sheet.pdf).  \n",
    "* Electricity costs in Belgium: [countryeconomy.com](https://countryeconomy.com/energy-and-environment/electricity-price-household/belgium#:~:text=The%20average%20price%20of%20electricity,as%20in%20the%20previous%20period.).\n",
    "\n",
    "| Power level | $Proc$ (*cpu*) | $Mem$ (*Gb*)  | $Cost$ (€/h) |\n",
    "| :--------- | :--------- | :--------- | :---------- |  \n",
    "| Low | $8$ | $256$ | $1.0962$ (HX-CPU-I4309Y)  \n",
    "| Medium | $16$ | $256$ | $1.4094$ (HX-CPU-I4314)\n",
    "| High | $32$ | $256$ | $2.1402$ (HX-CPU-I6314U4)\n",
    "| Very high | $40$ | $256$ | $2.79936$ (HX-CPU-I8380)\n",
    "\n",
    "* To determine models of fog nodes, we use the article proposed by \"**Araújo et al. (2024). Alocação de Recursos em Edge e Cloud Computing para Atender Dispositivos de IoT: Uma Análise Rumo ao 6G. Submitted to Simpósio Brasileiro de Redes de Computadores e Sistemas Distribuídos. Pages 1-12.**\".  \n"
   ]
  },
  {
   "cell_type": "code",
   "execution_count": 16,
   "metadata": {
    "executionInfo": {
     "elapsed": 51,
     "status": "ok",
     "timestamp": 1745610334557,
     "user": {
      "displayName": "RHUAN CAMPIDELI BORGES",
      "userId": "09818021635254161805"
     },
     "user_tz": 180
    },
    "id": "1T6e9-Gg4vhD"
   },
   "outputs": [],
   "source": [
    "LOW_POWER_INDEX = 0\n",
    "MEDIUM_POWER_INDEX = 1\n",
    "HIGH_POWER_INDEX = 2\n",
    "VERY_HIGH_POWER_INDEX = 3\n",
    "\n",
    "fog_node_dictionary = {\n",
    "    # ID: [power_level, processing_capacity, memory_capacity, cost, model]\n",
    "    LOW_POWER_INDEX: [\"low\", 8, 256, 1.0962, \"HX-CPU-I4309Y\"],\n",
    "    MEDIUM_POWER_INDEX: [\"medium\", 16, 256, 1.4094, \"HX-CPU-I4314\"],\n",
    "    HIGH_POWER_INDEX: [\"high\", 32, 256, 2.1402, \"HX-CPU-I6314U4\"],\n",
    "    VERY_HIGH_POWER_INDEX: [\"very high\", 40, 256, 2.79936, \"HX-CPU-I8380\"],\n",
    "}"
   ]
  },
  {
   "cell_type": "markdown",
   "metadata": {
    "id": "n7M3DSZ7nBXE"
   },
   "source": [
    "### Bandwidth between two fog nodes\n",
    "\n",
    "* Reference: Giga network"
   ]
  },
  {
   "cell_type": "code",
   "execution_count": 17,
   "metadata": {
    "executionInfo": {
     "elapsed": 30,
     "status": "ok",
     "timestamp": 1745610337101,
     "user": {
      "displayName": "RHUAN CAMPIDELI BORGES",
      "userId": "09818021635254161805"
     },
     "user_tz": 180
    },
    "id": "j8OveNXca9bk"
   },
   "outputs": [],
   "source": [
    "bandwidth_options_for_fog_nodes = {1, 2, 3}"
   ]
  },
  {
   "cell_type": "markdown",
   "metadata": {
    "id": "xq2Bihw0bBbh"
   },
   "source": [
    "### Fog nodes data structures"
   ]
  },
  {
   "cell_type": "code",
   "execution_count": 18,
   "metadata": {
    "executionInfo": {
     "elapsed": 7,
     "status": "ok",
     "timestamp": 1745610339533,
     "user": {
      "displayName": "RHUAN CAMPIDELI BORGES",
      "userId": "09818021635254161805"
     },
     "user_tz": 180
    },
    "id": "gygyTe0ddvMA"
   },
   "outputs": [],
   "source": [
    "SENSOR_FOG_FACTOR = 0.5\n",
    "#n_fog_nodes = max(10, int(n_sensors/SENSOR_FOG_RATIO))\n",
    "n_fog_nodes = int(SENSOR_FOG_FACTOR * n_sensors)\n",
    "n_fog_nodes_per_region = int(n_fog_nodes/n_regions)\n",
    "\n",
    "class FogCloudNode(NetworkNode):\n",
    "  power_level = None\n",
    "  model = None\n",
    "  processing_capacity = None\n",
    "  memory_capacity = None\n",
    "  cost = None"
   ]
  },
  {
   "cell_type": "code",
   "execution_count": 19,
   "metadata": {
    "executionInfo": {
     "elapsed": 9,
     "status": "ok",
     "timestamp": 1745610341826,
     "user": {
      "displayName": "RHUAN CAMPIDELI BORGES",
      "userId": "09818021635254161805"
     },
     "user_tz": 180
    },
    "id": "hvoIOQMJmkgO"
   },
   "outputs": [],
   "source": [
    "class FogNode(FogCloudNode):\n",
    "  pass"
   ]
  },
  {
   "cell_type": "markdown",
   "metadata": {
    "id": "5wkg8l7fig3e"
   },
   "source": [
    "* Function to generate fog nodes parameters"
   ]
  },
  {
   "cell_type": "code",
   "execution_count": 20,
   "metadata": {
    "executionInfo": {
     "elapsed": 31,
     "status": "ok",
     "timestamp": 1745610344657,
     "user": {
      "displayName": "RHUAN CAMPIDELI BORGES",
      "userId": "09818021635254161805"
     },
     "user_tz": 180
    },
    "id": "8P3Mwd1PijQ5"
   },
   "outputs": [],
   "source": [
    "def generateFogNodesParameters(bounds, very_high_percentual, high_percentual, medium_percentual, low_percentual):\n",
    "  global fog_nodes_list\n",
    "  global n_fog_nodes_per_region\n",
    "  global current_index\n",
    "  global fog_node_dictionary\n",
    "\n",
    "  random_points = generate_points_in_polygon(bounds, n_fog_nodes_per_region)\n",
    "\n",
    "  n_very_high = 0\n",
    "  n_high = 0\n",
    "  n_medium = 0\n",
    "  n_low = 0\n",
    "\n",
    "  for i in range(n_fog_nodes_per_region):\n",
    "    fog_node = FogNode()\n",
    "    fog_node.ID = current_index\n",
    "    fog_node.longitude = random_points[i][0]\n",
    "    fog_node.latitude =  random_points[i][1]\n",
    "\n",
    "    random_number = rd.uniform(0, 1)\n",
    "    power_level_fog_node_index = -1\n",
    "\n",
    "    if(random_number <= very_high_percentual):\n",
    "      n_very_high = n_very_high + 1\n",
    "      power_level_fog_node_index = VERY_HIGH_POWER_INDEX\n",
    "    elif(random_number > very_high_percentual and random_number <= very_high_percentual + high_percentual):\n",
    "      n_high = n_high + 1\n",
    "      power_level_fog_node_index = HIGH_POWER_INDEX\n",
    "    elif(random_number > very_high_percentual + high_percentual and random_number <= very_high_percentual + high_percentual + medium_percentual):\n",
    "      n_medium = n_medium + 1\n",
    "      power_level_fog_node_index = MEDIUM_POWER_INDEX\n",
    "    else:\n",
    "      n_low = n_low + 1\n",
    "      power_level_fog_node_index = LOW_POWER_INDEX\n",
    "\n",
    "    fog_node.power_level = fog_node_dictionary[power_level_fog_node_index][0]\n",
    "    fog_node.processing_capacity = fog_node_dictionary[power_level_fog_node_index][1]\n",
    "    fog_node.memory_capacity = fog_node_dictionary[power_level_fog_node_index][2]\n",
    "    fog_node.cost = fog_node_dictionary[power_level_fog_node_index][3]\n",
    "    fog_node.model = fog_node_dictionary[power_level_fog_node_index][4]\n",
    "\n",
    "    fog_nodes_list.append(fog_node)\n",
    "    current_index = current_index + 1"
   ]
  },
  {
   "cell_type": "markdown",
   "metadata": {
    "id": "KbJNzB-Hm_C-"
   },
   "source": [
    "### Reachability between two fog nodes"
   ]
  },
  {
   "cell_type": "markdown",
   "metadata": {
    "id": "x6Xru5UinPUd"
   },
   "source": [
    "### Haversine distance between two nodes"
   ]
  },
  {
   "cell_type": "code",
   "execution_count": 21,
   "metadata": {
    "executionInfo": {
     "elapsed": 20,
     "status": "ok",
     "timestamp": 1745610347774,
     "user": {
      "displayName": "RHUAN CAMPIDELI BORGES",
      "userId": "09818021635254161805"
     },
     "user_tz": 180
    },
    "id": "hGEXtK53nP1y"
   },
   "outputs": [],
   "source": [
    "def getHaversineDistance(node1, node2):\n",
    "    # Radius of the Earth in meters\n",
    "    R = 6371.0 * 1000\n",
    "\n",
    "    # Convert latitude and longitude from degrees to radians\n",
    "    lat1 = math.radians(node1.latitude)\n",
    "    lon1 = math.radians(node1.longitude)\n",
    "    lat2 = math.radians(node2.latitude)\n",
    "    lon2 = math.radians(node2.longitude)\n",
    "\n",
    "    # Calculate the differences\n",
    "    dlon = lon2 - lon1\n",
    "    dlat = lat2 - lat1\n",
    "\n",
    "    # Haversine formula\n",
    "    a = math.sin(dlat / 2)**2 + math.cos(lat1) * math.cos(lat2) * math.sin(dlon / 2)**2\n",
    "    c = 2 * math.atan2(math.sqrt(a), math.sqrt(1 - a))\n",
    "\n",
    "    # Calculate the distance\n",
    "    distance = R * c\n",
    "\n",
    "    return distance"
   ]
  },
  {
   "cell_type": "markdown",
   "metadata": {
    "id": "18w0WiDcoBEi"
   },
   "source": [
    "### Generating substrate network\n",
    "\n",
    "* We guarantee that all fog nodes are connected"
   ]
  },
  {
   "cell_type": "code",
   "execution_count": 22,
   "metadata": {
    "executionInfo": {
     "elapsed": 8,
     "status": "ok",
     "timestamp": 1745610351241,
     "user": {
      "displayName": "RHUAN CAMPIDELI BORGES",
      "userId": "09818021635254161805"
     },
     "user_tz": 180
    },
    "id": "9V5wdao_oDn4"
   },
   "outputs": [],
   "source": [
    "def generatesubstrateNetwork(first_index, last_index):\n",
    "  global fog_nodes_network\n",
    "  global fog_nodes_list\n",
    "\n",
    "  G = nx.Graph()\n",
    "\n",
    "  for fog_node_index1 in range(first_index, last_index):\n",
    "    for fog_node_index2 in range(fog_node_index1 + 1, last_index):\n",
    "      random_number = rd.uniform(0, 1)\n",
    "      if(random_number <= FOG_CONNECTION_PROBABILITY):\n",
    "        fog_nodes_network[(fog_node_index1, fog_node_index2)] = [rd.choice(list(bandwidth_options_for_fog_nodes)), getHaversineDistance(fog_nodes_list[fog_node_index1], fog_nodes_list[fog_node_index2])]\n",
    "        G.add_edge(fog_node_index1, fog_node_index2)\n",
    "\n",
    "  while((G.number_of_nodes() == 0 and G.number_of_edges() == 0) or not nx.is_connected(G)):\n",
    "    fog_node_index1 = rd.randint(first_index, last_index - 1)\n",
    "    fog_node_index2 = rd.randint(first_index, last_index - 1)\n",
    "    random_number = rd.uniform(0, 1)\n",
    "    if(random_number <= FOG_CONNECTION_PROBABILITY and fog_node_index1 < fog_node_index2 and not G.has_edge(fog_node_index1, fog_node_index2)):\n",
    "      fog_nodes_network[(fog_node_index1, fog_node_index2)] = [rd.choice(list(bandwidth_options_for_fog_nodes)), getHaversineDistance(fog_nodes_list[fog_node_index1], fog_nodes_list[fog_node_index2])]\n",
    "      G.add_edge(fog_node_index1, fog_node_index2)\n",
    "\n",
    "  return G"
   ]
  },
  {
   "cell_type": "markdown",
   "metadata": {
    "id": "YOPdFZM_oMuB"
   },
   "source": [
    "### Fog nodes network"
   ]
  },
  {
   "cell_type": "code",
   "execution_count": 23,
   "metadata": {
    "executionInfo": {
     "elapsed": 27,
     "status": "ok",
     "timestamp": 1745610353994,
     "user": {
      "displayName": "RHUAN CAMPIDELI BORGES",
      "userId": "09818021635254161805"
     },
     "user_tz": 180
    },
    "id": "iKo_o-lNoNTH"
   },
   "outputs": [],
   "source": [
    "fog_nodes_network = {}\n",
    "fog_nodes_list = []\n",
    "fog_nodes_index_by_region = {}\n",
    "current_index = 0"
   ]
  },
  {
   "cell_type": "markdown",
   "metadata": {
    "id": "Pl8DEo0PoUCl"
   },
   "source": [
    "### General rule\n",
    "\n",
    "  * For regions 1, 2, and 4, if the number of sensors is less than equal 500, then the fog node characteristics will be given by:  \n",
    "    * *medium* (prob. of 70\\%);  \n",
    "    * *low* (prob. of 30\\%).  \n",
    "  * For regions 3 and 5, if the number of sensors is less than equal 500, then the fog node characteristics will be given by:  \n",
    "    * *medium* (prob. of 50\\%);  \n",
    "    * *low* (prob. of 50\\%).  "
   ]
  },
  {
   "cell_type": "code",
   "execution_count": 24,
   "metadata": {
    "executionInfo": {
     "elapsed": 10,
     "status": "ok",
     "timestamp": 1745610356743,
     "user": {
      "displayName": "RHUAN CAMPIDELI BORGES",
      "userId": "09818021635254161805"
     },
     "user_tz": 180
    },
    "id": "F2a6gCyroUg5"
   },
   "outputs": [],
   "source": [
    "N_SENSORS_THRESHOLD = 500"
   ]
  },
  {
   "cell_type": "markdown",
   "metadata": {
    "id": "G-k8FLVieBNc"
   },
   "source": [
    "### Generating points for Region 1 - **Port area**\n",
    "\n",
    "* (Number of sensors greater then $500$) Due to the characteristics of the requests, this region can receive the following powerful types of fog nodes:\n",
    "  * *very high* (prob. of 20\\%);  \n",
    "  * *high* (prob. of 35\\%);  \n",
    "  * *medium* (prob. of 35\\%);  \n",
    "  * *low* (prob. of 10\\%).\n"
   ]
  },
  {
   "cell_type": "code",
   "execution_count": 25,
   "metadata": {
    "executionInfo": {
     "elapsed": 20,
     "status": "ok",
     "timestamp": 1745610359823,
     "user": {
      "displayName": "RHUAN CAMPIDELI BORGES",
      "userId": "09818021635254161805"
     },
     "user_tz": 180
    },
    "id": "ihVsDcAKgm4P"
   },
   "outputs": [],
   "source": [
    "first_index_of_region = current_index\n",
    "if(n_sensors > N_SENSORS_THRESHOLD):\n",
    "  generateFogNodesParameters(region1_bounds, 0.2, 0.35, 0.35, 0.10)\n",
    "else:\n",
    "  generateFogNodesParameters(region1_bounds, 0, 0, 0.7, 0.3)\n",
    "fog_nodes_graph = generatesubstrateNetwork(first_index_of_region, first_index_of_region + n_fog_nodes_per_region)\n",
    "fog_nodes_index_by_region['port_area'] = [first_index_of_region, first_index_of_region + n_fog_nodes_per_region]"
   ]
  },
  {
   "cell_type": "markdown",
   "metadata": {
    "id": "hs6A1Mqtfhue"
   },
   "source": [
    "### Generating points for Region 2 - **Grote Markt**\n",
    "\n",
    "* (Number of sensors greater then $500$) Due to the characteristics of the requests, this region can receive the following powerful types of fog nodes:\n",
    "  * *very high* (prob. of 20\\%);  \n",
    "  * *high* (prob. of 35\\%);  \n",
    "  * *medium* (prob. of 35\\%);  \n",
    "  * *low* (prob. of 10\\%).\n"
   ]
  },
  {
   "cell_type": "code",
   "execution_count": 26,
   "metadata": {
    "executionInfo": {
     "elapsed": 10,
     "status": "ok",
     "timestamp": 1745610363710,
     "user": {
      "displayName": "RHUAN CAMPIDELI BORGES",
      "userId": "09818021635254161805"
     },
     "user_tz": 180
    },
    "id": "lnpV7vwQgneU"
   },
   "outputs": [],
   "source": [
    "first_index_of_region = current_index\n",
    "if(n_sensors > N_SENSORS_THRESHOLD):\n",
    "  generateFogNodesParameters(region2_bounds, 0.2, 0.35, 0.35, 0.1)\n",
    "else:\n",
    "  generateFogNodesParameters(region2_bounds, 0, 0, 0.7, 0.3)\n",
    "fog_nodes_graph = generatesubstrateNetwork(first_index_of_region, first_index_of_region + n_fog_nodes_per_region)\n",
    "fog_nodes_index_by_region['grote_markt'] = [first_index_of_region, first_index_of_region + n_fog_nodes_per_region]"
   ]
  },
  {
   "cell_type": "markdown",
   "metadata": {
    "id": "ezOFT8ZXf8VK"
   },
   "source": [
    "### Generating points for Region 3 - **Zoo Antwerpen**\n",
    "\n",
    "* (Number of sensors greater then $500$) Due to the characteristics of the requests, this region can receive the following powerful types of fog nodes:\n",
    "  * *very high* (prob. of 10\\%);  \n",
    "  * *high* (prob. of 30\\%);  \n",
    "  * *medium* (prob. of 30\\%);  \n",
    "  * *low* (prob. of 30\\%)."
   ]
  },
  {
   "cell_type": "code",
   "execution_count": 27,
   "metadata": {
    "executionInfo": {
     "elapsed": 34,
     "status": "ok",
     "timestamp": 1745610366549,
     "user": {
      "displayName": "RHUAN CAMPIDELI BORGES",
      "userId": "09818021635254161805"
     },
     "user_tz": 180
    },
    "id": "s2E5RTgWgoJb"
   },
   "outputs": [],
   "source": [
    "first_index_of_region = current_index\n",
    "if(n_sensors > N_SENSORS_THRESHOLD):\n",
    "  generateFogNodesParameters(region3_bounds, 0.1, 0.3, 0.3, 0.3)\n",
    "else:\n",
    "  generateFogNodesParameters(region3_bounds, 0, 0, 0.5, 0.5)\n",
    "fog_nodes_graph = generatesubstrateNetwork(first_index_of_region, first_index_of_region + n_fog_nodes_per_region)\n",
    "fog_nodes_index_by_region['zoo'] = [first_index_of_region, first_index_of_region + n_fog_nodes_per_region]"
   ]
  },
  {
   "cell_type": "markdown",
   "metadata": {
    "id": "x9LoZDQ-gGoJ"
   },
   "source": [
    "### Generating points for Region 4 - **Luchthaven Antwerpen**\n",
    "\n",
    "* (Number of sensors greater then $500$) Due to the characteristics of the requests, this region can receive the following powerful types of fog nodes:\n",
    "  * *very high* (prob. of 30\\%);  \n",
    "  * *high* (prob. of 30\\%);  \n",
    "  * *medium* (prob. of 30\\%);  \n",
    "  * *low* (prob. of 10\\%)."
   ]
  },
  {
   "cell_type": "code",
   "execution_count": 28,
   "metadata": {
    "executionInfo": {
     "elapsed": 30,
     "status": "ok",
     "timestamp": 1745610369103,
     "user": {
      "displayName": "RHUAN CAMPIDELI BORGES",
      "userId": "09818021635254161805"
     },
     "user_tz": 180
    },
    "id": "bPfgA9Pegor4"
   },
   "outputs": [],
   "source": [
    "first_index_of_region = current_index\n",
    "if(n_sensors > N_SENSORS_THRESHOLD):\n",
    "  generateFogNodesParameters(region4_bounds, 0.3, 0.3, 0.3, 0.1)\n",
    "else:\n",
    "  generateFogNodesParameters(region4_bounds, 0, 0, 0.7, 0.3)\n",
    "fog_nodes_graph = generatesubstrateNetwork(first_index_of_region, first_index_of_region + n_fog_nodes_per_region)\n",
    "fog_nodes_index_by_region['luchthaven'] = [first_index_of_region, first_index_of_region + n_fog_nodes_per_region]"
   ]
  },
  {
   "cell_type": "markdown",
   "metadata": {
    "id": "YWo3xmQwgMVi"
   },
   "source": [
    "### Generating points for Region 5 - **Faculty of Applied Engineering**\n",
    "\n",
    "* (Number of sensors greater then $500$) Due to the characteristics of the requests, this region can receive the following powerful types of fog nodes:\n",
    "  * *very high* (prob. of 10\\%);  \n",
    "  * *high* (prob. of 30\\%);  \n",
    "  * *medium* (prob. of 30\\%);  \n",
    "  * *low* (prob. of 30\\%)."
   ]
  },
  {
   "cell_type": "code",
   "execution_count": 29,
   "metadata": {
    "executionInfo": {
     "elapsed": 21,
     "status": "ok",
     "timestamp": 1745610371156,
     "user": {
      "displayName": "RHUAN CAMPIDELI BORGES",
      "userId": "09818021635254161805"
     },
     "user_tz": 180
    },
    "id": "_8bv2ojKgpTH"
   },
   "outputs": [],
   "source": [
    "first_index_of_region = current_index\n",
    "if(n_sensors > N_SENSORS_THRESHOLD):\n",
    "  generateFogNodesParameters(region5_bounds, 0.1, 0.3, 0.3, 0.3)\n",
    "else:\n",
    "  generateFogNodesParameters(region5_bounds, 0, 0, 0.5, 0.5)\n",
    "fog_nodes_graph = generatesubstrateNetwork(first_index_of_region, first_index_of_region + n_fog_nodes_per_region)\n",
    "fog_nodes_index_by_region['faculty_applied_engineering'] = [first_index_of_region, first_index_of_region + n_fog_nodes_per_region]"
   ]
  },
  {
   "cell_type": "markdown",
   "metadata": {
    "id": "FKEfvnyajDn6"
   },
   "source": [
    "### Enabling connections between fog nodes of different regions"
   ]
  },
  {
   "cell_type": "code",
   "execution_count": 30,
   "metadata": {
    "executionInfo": {
     "elapsed": 28,
     "status": "ok",
     "timestamp": 1745610373497,
     "user": {
      "displayName": "RHUAN CAMPIDELI BORGES",
      "userId": "09818021635254161805"
     },
     "user_tz": 180
    },
    "id": "SPMZmnjKjOIz"
   },
   "outputs": [],
   "source": [
    "G = nx.Graph()\n",
    "for edge in fog_nodes_network:\n",
    "  u = edge[0]\n",
    "  v = edge[1]\n",
    "  G.add_edge(u, v)\n",
    "\n",
    "while(not nx.is_connected(G)):\n",
    "  for region1 in fog_nodes_index_by_region:\n",
    "      for region2 in fog_nodes_index_by_region:\n",
    "        if(region1 != region2):\n",
    "          random_number = rd.uniform(0, 1)\n",
    "          if(random_number <= FOG_CONNECTION_PROBABILITY):\n",
    "            fog_node_1 = rd.randint(fog_nodes_index_by_region[region1][0], fog_nodes_index_by_region[region1][1] - 1)\n",
    "            fog_node_2 = rd.randint(fog_nodes_index_by_region[region2][0], fog_nodes_index_by_region[region2][1] - 1)\n",
    "            if(fog_node_1 < fog_node_2 and (fog_node_1, fog_node_2) not in fog_nodes_network):\n",
    "              fog_nodes_network[(fog_node_1, fog_node_2)] = [rd.choice(list(bandwidth_options_for_fog_nodes)), getHaversineDistance(fog_nodes_list[fog_node_1], fog_nodes_list[fog_node_2])]\n",
    "              G.add_edge(fog_node_1, fog_node_2)"
   ]
  },
  {
   "cell_type": "markdown",
   "metadata": {
    "id": "4l_qhDcv00Hm"
   },
   "source": [
    "## Services (types of request)\n",
    "\n",
    "We consider data extracted from [\"*José Santos, Tim Wauters, Bruno Volckaert, and Filip De Turck. 2021. Towards end-to-end resource provisioning in Fog Computing over Low Power Wide Area Networks. Journal of Network and Computer Applications 175 (2021), 102915.*\"](https://www.sciencedirect.com/science/article/abs/pii/S108480452030374X).\n",
    "\n",
    "| ID | Service | $proc$ (*cpu*) |  $mem$ (*Gb*) |\n",
    "| :--------- | :--------- | :--------- | :--------- |\n",
    "$0$ | *waste* (*waste-api* → *route-planner* → *waste-db*) | $0.2125$ | $0.375$ |\n",
    "$1$ | *camera* (*fd-ext* → *fm-recog* → *cam-db*) | $0.35$ | $0.475$ |\n",
    "$2$ | *air* (*air-api* → *ml-engine* → *air-db*) | $0.25$ | $0.3125$ |\n",
    "\n",
    "* **How can we determine these values?**  \n",
    "  * For example: *waste* (*waste-api* → *waste-db* → *route-planner*), for the *cpu* metric. According to Table 4 of [\"*José Santos, Tim Wauters, Bruno Volckaert, and Filip De Turck. 2021. Towards end-to-end resource provisioning in Fog Computing over Low Power Wide Area Networks. Journal of Network and Computer Applications 175 (2021), 102915.*\"](https://www.sciencedirect.com/science/article/abs/pii/S108480452030374X), we have:     \n",
    "    * *waste-api* → $0.25$ (*cpu*), and 5 max. users (container). Then, we get $\\frac{0.25}{5} = 0.05$.  \n",
    "    * *route-planner* → $0.5$ (*cpu*), and 8 max. users (container). Then, we get $\\frac{0.5}{8} = 0.0625$.  \n",
    "    * *waste-db* → $0.5$ (*cpu*), and 5 max. users (container). Then, we get $\\frac{0.5}{5} = 0.1$.  \n",
    "    * Thus, we obtain $0.05 + 0.0625 + 0.1 = 0.2125$.  \n",
    "  * The same rationale is valid for the other services and memory metric.  \n"
   ]
  },
  {
   "cell_type": "code",
   "execution_count": 31,
   "metadata": {
    "executionInfo": {
     "elapsed": 11,
     "status": "ok",
     "timestamp": 1745610377459,
     "user": {
      "displayName": "RHUAN CAMPIDELI BORGES",
      "userId": "09818021635254161805"
     },
     "user_tz": 180
    },
    "id": "nGfejp4w9ojX"
   },
   "outputs": [],
   "source": [
    "service_dictionary = {\n",
    "    # ID: [processing_demand, memory_demand, number_of_bits, lifetime]\n",
    "    'waste': [0.2125, 0.375, 296, 50],\n",
    "    'camera': [0.35, 0.475, 12000, 10],\n",
    "    'air': [0.25, 0.3125, 744, 100]\n",
    "}\n",
    "\n",
    "class Service:\n",
    "  service_type = None\n",
    "  processing_demand = None\n",
    "  memory_demand = None\n",
    "  number_of_bits = None\n",
    "  lifetime = None"
   ]
  },
  {
   "cell_type": "markdown",
   "metadata": {
    "id": "QVm-q94010pe"
   },
   "source": [
    "* Generating a service"
   ]
  },
  {
   "cell_type": "code",
   "execution_count": 32,
   "metadata": {
    "executionInfo": {
     "elapsed": 22,
     "status": "ok",
     "timestamp": 1745610403206,
     "user": {
      "displayName": "RHUAN CAMPIDELI BORGES",
      "userId": "09818021635254161805"
     },
     "user_tz": 180
    },
    "id": "RFetbZuN2fT8"
   },
   "outputs": [],
   "source": [
    "def getService(service_name):\n",
    "  global service_dictionary\n",
    "\n",
    "  service = Service()\n",
    "  service.service_type = service_name\n",
    "  service.processing_demand = service_dictionary[service_name][0]\n",
    "  service.memory_demand = service_dictionary[service_name][1]\n",
    "  service.number_of_bits = service_dictionary[service_name][2]\n",
    "  service.lifetime = service_dictionary[service_name][3]\n",
    "\n",
    "  return service"
   ]
  },
  {
   "cell_type": "markdown",
   "metadata": {
    "id": "_Fnlp_LP0mPT"
   },
   "source": [
    "## Sensors\n"
   ]
  },
  {
   "cell_type": "code",
   "execution_count": 33,
   "metadata": {
    "executionInfo": {
     "elapsed": 52,
     "status": "ok",
     "timestamp": 1745610412163,
     "user": {
      "displayName": "RHUAN CAMPIDELI BORGES",
      "userId": "09818021635254161805"
     },
     "user_tz": 180
    },
    "id": "zXJ8iY438T33"
   },
   "outputs": [],
   "source": [
    "#n_sensor_per_region = int(n_sensors/n_regions)\n",
    "\n",
    "class Sensor(NetworkNode):\n",
    "  services = None\n",
    "  reachable_fog_nodes = None"
   ]
  },
  {
   "cell_type": "code",
   "execution_count": 34,
   "metadata": {
    "executionInfo": {
     "elapsed": 52,
     "status": "ok",
     "timestamp": 1745610414359,
     "user": {
      "displayName": "RHUAN CAMPIDELI BORGES",
      "userId": "09818021635254161805"
     },
     "user_tz": 180
    },
    "id": "xlqkcFk-lVTA"
   },
   "outputs": [],
   "source": [
    "current_index = 0"
   ]
  },
  {
   "cell_type": "markdown",
   "metadata": {
    "id": "XNfBPvBDNGym"
   },
   "source": [
    "* Generating sensors   \n",
    "  * Number of requests by sensor: $[1,0.2\\cdot |S|]$ (at most 20\\% of the number of sensors)."
   ]
  },
  {
   "cell_type": "code",
   "execution_count": 35,
   "metadata": {
    "executionInfo": {
     "elapsed": 26,
     "status": "ok",
     "timestamp": 1745610415858,
     "user": {
      "displayName": "RHUAN CAMPIDELI BORGES",
      "userId": "09818021635254161805"
     },
     "user_tz": 180
    },
    "id": "OYjdD2S-5Zrn"
   },
   "outputs": [],
   "source": [
    "def generateSensors(bounds, waste_percentual, camera_percentual, air_percentual):\n",
    "  global n_sensors_per_region\n",
    "  global sensors_list\n",
    "  global current_index\n",
    "\n",
    "  random_points = generate_points_in_polygon(bounds, n_sensor_per_region)\n",
    "  number_of_services = [0 for sensor_idx in range(n_sensors)]\n",
    "\n",
    "  for i in range(len(random_points)):\n",
    "    sensor = Sensor()\n",
    "    sensor.ID = current_index\n",
    "    sensor.longitude = random_points[i][0]\n",
    "    sensor.latitude = random_points[i][1]\n",
    "\n",
    "    sensor.services = [] # List of elements with two info: [Service, Last_Time_When_It_Appeared]\n",
    "    number_of_services[sensor.ID] = rd.randint(1, 0.2 * n_sensors)\n",
    "\n",
    "    for service_counter in range(number_of_services[sensor.ID]):\n",
    "      random_number = rd.uniform(0, 1)\n",
    "      type_of_request = ''\n",
    "      if(random_number <= waste_percentual):\n",
    "        type_of_request = 'waste'\n",
    "      elif(random_number > waste_percentual and random_number <= waste_percentual + camera_percentual):\n",
    "        type_of_request = 'camera'\n",
    "      else:\n",
    "        type_of_request = 'air'\n",
    "\n",
    "      service = getService(type_of_request)\n",
    "      sensor.services.append(service)\n",
    "\n",
    "    sensors_list.append(sensor)\n",
    "    current_index = current_index + 1"
   ]
  },
  {
   "cell_type": "code",
   "execution_count": 36,
   "metadata": {
    "executionInfo": {
     "elapsed": 2,
     "status": "ok",
     "timestamp": 1745610420686,
     "user": {
      "displayName": "RHUAN CAMPIDELI BORGES",
      "userId": "09818021635254161805"
     },
     "user_tz": 180
    },
    "id": "CkB4DWU59rp0"
   },
   "outputs": [],
   "source": [
    "sensors_list = []"
   ]
  },
  {
   "cell_type": "markdown",
   "metadata": {
    "id": "TwNUjqFbl9yW"
   },
   "source": [
    "* Region 1: Waste (probability of 40%), camera (probability of 20%), air (probability of 40%).  \n",
    "* Region 2: Waste (probability of 40%), camera (probability of 40%), air (probability of 20%).  \n",
    "* Region 3: Waste (probability of 65%), camera (probability of 25%), air (probability of 10%).  \n",
    "* Region 4: Waste (probability of 20%), camera (probability of 40%), air (probability of 40%).  \n",
    "* Region 5: Waste (probability of 25%), camera (probability of 65%), air (probability of 10%)."
   ]
  },
  {
   "cell_type": "code",
   "execution_count": 37,
   "metadata": {
    "executionInfo": {
     "elapsed": 2,
     "status": "ok",
     "timestamp": 1745610421651,
     "user": {
      "displayName": "RHUAN CAMPIDELI BORGES",
      "userId": "09818021635254161805"
     },
     "user_tz": 180
    },
    "id": "9ThT9yDhmBE4"
   },
   "outputs": [],
   "source": [
    "generateSensors(region1_bounds, 0.4, 0.2, 0.4)\n",
    "generateSensors(region2_bounds, 0.4, 0.4, 0.2)\n",
    "generateSensors(region3_bounds, 0.65, 0.25, 0.1)\n",
    "generateSensors(region4_bounds, 0.2, 0.4, 0.4)\n",
    "generateSensors(region5_bounds, 0.25, 0.65, 0.1)"
   ]
  },
  {
   "cell_type": "markdown",
   "metadata": {
    "id": "rVWr5kJXpuq0"
   },
   "source": [
    "### Fog nodes reachable from sensors"
   ]
  },
  {
   "cell_type": "code",
   "execution_count": 38,
   "metadata": {
    "id": "5nFvLbe_tru_"
   },
   "outputs": [],
   "source": [
    "def getMaxHaversineDistanceFromSensorsToFogNodes(sensor):\n",
    "  max_haversine_distance = -1;\n",
    "  for fog_node in fog_nodes_list:\n",
    "    harversine_distance = getHaversineDistance(sensor, fog_node)\n",
    "    if(max_haversine_distance < harversine_distance):\n",
    "      max_haversine_distance = harversine_distance\n",
    "  return max_haversine_distance;\n",
    "\n",
    "def determineTechnologyMiscellaneousCase(sensor):\n",
    "  '''\n",
    "  max_haversine_distance = getMaxHaversineDistanceFromSensorsToFogNodes(sensor);\n",
    "\n",
    "  if(max_haversine_distance <= wireless_coverage_radius_in_meters[\"6G\"]):\n",
    "    return \"6G\"\n",
    "\n",
    "  elif(max_haversine_distance <= wireless_coverage_radius_in_meters[\"5G\"]):\n",
    "    return \"5G\"\n",
    "\n",
    "  elif(max_haversine_distance <= wireless_coverage_radius_in_meters[\"4G\"]):\n",
    "    return \"4G\"\n",
    "\n",
    "  elif(max_haversine_distance <= wireless_coverage_radius_in_meters[\"3G\"]):\n",
    "    return \"3G\"\n",
    "\n",
    "  else:\n",
    "    return \"2G\"\n",
    "  '''\n",
    "  return np.random.choice([\"4G\", \"5G\", \"6G\"])"
   ]
  },
  {
   "cell_type": "markdown",
   "metadata": {
    "id": "aoYXjG-Y111M"
   },
   "source": [
    "**Getting the reachable fog nodes**"
   ]
  },
  {
   "cell_type": "markdown",
   "metadata": {
    "id": "o6IUHAjv39tO"
   },
   "source": [
    "To determine the bandwidth demanded by sensor $s$, ${bw}_s$, we consider as its candidates: $\\{0.00004, 0.001, 0.01, 0.12, 1.0\\}$ (bandwidth wireless references).  \n",
    "* If the wireless technology is 2G, then ${bw}_s = 0.00004$;  \n",
    "* If the wireless technology is 3G, then ${bw}_s \\in \\{0.00004, 0.001\\}$;  \n",
    "* If the wireless technology is 4G, then ${bw}_s \\in \\{0.00004, 0.001, 0.01\\}$;  \n",
    "* If the wireless technology is 5G, then ${bw}_s \\in \\{0.00004, 0.001, 0.01, 0.12\\}$;\n",
    "* If the wireless technology is 6G, then ${bw}_s \\in \\{0.00004, 0.001, 0.01, 0.12, 1.0\\}$.  "
   ]
  },
  {
   "cell_type": "code",
   "execution_count": 39,
   "metadata": {
    "executionInfo": {
     "elapsed": 37,
     "status": "ok",
     "timestamp": 1745610426804,
     "user": {
      "displayName": "RHUAN CAMPIDELI BORGES",
      "userId": "09818021635254161805"
     },
     "user_tz": 180
    },
    "id": "FLWgv1KhohLk"
   },
   "outputs": [],
   "source": [
    "sensor_bandwidth_dictionary = {}\n",
    "sensor_bandwidth_options = {\n",
    "    \"2G\": [0.00004],\n",
    "    \"3G\": [0.00004, 0.001],\n",
    "    \"4G\": [0.00004, 0.001, 0.01],\n",
    "    \"5G\": [0.00004, 0.001, 0.01, 0.12],\n",
    "    \"6G\": [0.00004, 0.001, 0.01, 0.12, 1.0]\n",
    "}\n",
    "\n",
    "def getSensorToFogBandwidth(wireless_technology_chosen):\n",
    "  return np.random.choice(sensor_bandwidth_options[wireless_technology_chosen])"
   ]
  },
  {
   "cell_type": "markdown",
   "metadata": {
    "id": "tnlaMY5Ux-6P"
   },
   "source": [
    "The cost of the link $(u,v)$, $c_{uv}$ (€/Gbps), is defined in the following (reference information: [AWS Amazon](https://aws.amazon.com/pt/ec2/pricing/on-demand/)).  \n",
    "* If $u$ is a sensor and $v$ is a fog node, then $c_{uv} \\in \\{0.0092, 0.046\\}$;  \n",
    "* If both $u$ and $v$ are fog nodes, then $c_{uv} \\in \\{0.46, 0.064, 0.078\\}$;\n",
    "* If $u$ is a fog node and $v$ is a cloud node, then $c_{uv} = 0.083$."
   ]
  },
  {
   "cell_type": "code",
   "execution_count": 40,
   "metadata": {
    "executionInfo": {
     "elapsed": 39,
     "status": "ok",
     "timestamp": 1745610428144,
     "user": {
      "displayName": "RHUAN CAMPIDELI BORGES",
      "userId": "09818021635254161805"
     },
     "user_tz": 180
    },
    "id": "5IWNTP5jx_rB"
   },
   "outputs": [],
   "source": [
    "sensor_bandwidth_cost_dictionary = {}\n",
    "sensor_bandwidth_cost_options = {\n",
    "    \"(sensor,fog)\": [0.0092, 0.046],\n",
    "    \"(fog,fog)\": [0.046, 0.064, 0.078],\n",
    "    \"(fog,cloud)\": [0.083]\n",
    "}\n",
    "\n",
    "def getBandwidthCost(link_config):\n",
    "  return np.random.choice(sensor_bandwidth_cost_options[link_config])"
   ]
  },
  {
   "cell_type": "code",
   "execution_count": 41,
   "metadata": {
    "colab": {
     "base_uri": "https://localhost:8080/"
    },
    "executionInfo": {
     "elapsed": 38,
     "status": "ok",
     "timestamp": 1745610434788,
     "user": {
      "displayName": "RHUAN CAMPIDELI BORGES",
      "userId": "09818021635254161805"
     },
     "user_tz": 180
    },
    "id": "15D4pRorpzVy",
    "outputId": "ae25c547-f4c7-4510-bf25-7c8fb9a7eca3"
   },
   "outputs": [],
   "source": [
    "sensor_tech_dict = {}\n",
    "for sensor in sensors_list:\n",
    "  if(wireless_technology_chosen == \"misc\"):\n",
    "    sensor_tech_dict[sensor.ID] = determineTechnologyMiscellaneousCase(sensor)\n",
    "  else:\n",
    "    sensor_tech_dict[sensor.ID] = wireless_technology_chosen\n",
    "  sensor.reachable_fog_nodes = []\n",
    "\n",
    "  coverage_ratio_in_meters = wireless_coverage_radius_in_meters[sensor_tech_dict[sensor.ID]]\n",
    "  for fog_node in fog_nodes_list:\n",
    "    harversine_distance = getHaversineDistance(sensor, fog_node)\n",
    "    if(harversine_distance <= coverage_ratio_in_meters):\n",
    "      sensor.reachable_fog_nodes.append(fog_node.ID)\n",
    "      #sensor_bandwidth_dictionary[(sensor.ID, fog_node.ID)] = getSensorToFogBandwidth(sensor_tech_list[sensor.ID])\n",
    "      sensor_bandwidth_dictionary[(sensor.ID, fog_node.ID)] = sensor_bandwidth_options[sensor_tech_dict[sensor.ID]][-1]\n",
    "      sensor_bandwidth_cost_dictionary[(sensor.ID, fog_node.ID)] = getBandwidthCost(\"(sensor,fog)\")\n",
    "\n",
    "  if(len(sensor.reachable_fog_nodes) == 0):\n",
    "    print(sensor.ID, \" \", len(sensor.reachable_fog_nodes))"
   ]
  },
  {
   "cell_type": "markdown",
   "metadata": {
    "id": "jNXsw3rr4v1o"
   },
   "source": [
    "### Cloud nodes\n",
    "\n",
    "| Cloud node | Power level | $Proc$ (*cpu*) | $Mem$ (*Gb*) | $Cost$ (€/h) |\n",
    "| :--------- | :--------- | :--------- | :--------- | :------------- |\n",
    "m7i.48xlarge\t ($c_1$) | High |  $192.0$ | $768.0$ | $10.49$\n",
    "g4dn.metal ($c_2$) | Medium | $96.0$ | $384.0$ | $8.50$\n",
    "m5d.12xlarge ($c_3$) | Low | $48.0$ | $192.0$ | $2.94$\n",
    "| | | | | |\n",
    "\n",
    "* Location of cloud nodes: (48.92744292889152, 2.353369482741328) $→$ *Zone Industrielle Portes De Paris* (Paris, France), simulating a principal region of [AWS location](https://aws.amazon.com/pt/about-aws/global-infrastructure/localzones/locations/).   \n",
    "\n",
    "\n"
   ]
  },
  {
   "cell_type": "markdown",
   "metadata": {
    "id": "Yd0mH5Nbp0Nz"
   },
   "source": [
    "* *index | power level | latitude | longitude | processing capacity | memory capacity | processing time | cost | model*"
   ]
  },
  {
   "cell_type": "code",
   "execution_count": 42,
   "metadata": {
    "executionInfo": {
     "elapsed": 21,
     "status": "ok",
     "timestamp": 1745610440438,
     "user": {
      "displayName": "RHUAN CAMPIDELI BORGES",
      "userId": "09818021635254161805"
     },
     "user_tz": 180
    },
    "id": "XScVg8GMp560"
   },
   "outputs": [],
   "source": [
    "n_cloud_nodes = 3\n",
    "\n",
    "class CloudNode(FogCloudNode):\n",
    "  pass"
   ]
  },
  {
   "cell_type": "markdown",
   "metadata": {
    "id": "FBcUtIQdrNrp"
   },
   "source": [
    "* Generating cloud nodes"
   ]
  },
  {
   "cell_type": "code",
   "execution_count": 43,
   "metadata": {
    "executionInfo": {
     "elapsed": 29,
     "status": "ok",
     "timestamp": 1745610441246,
     "user": {
      "displayName": "RHUAN CAMPIDELI BORGES",
      "userId": "09818021635254161805"
     },
     "user_tz": 180
    },
    "id": "05RdKVOurPrK"
   },
   "outputs": [],
   "source": [
    "LOW_POWER_CLOUD_INDEX = 0\n",
    "MEDIUM_POWER_CLOUD_INDEX = 1\n",
    "HIGH_POWER_CLOUD_INDEX = 2\n",
    "\n",
    "cloud_node_dictionary = {\n",
    "    # ID: [power_level, processing_capacity, memory_capacity, cost, model]\n",
    "    LOW_POWER_INDEX: [\"low\", 48.0, 192.0, 2.94, \"m5d.12xlarge\"],\n",
    "    MEDIUM_POWER_CLOUD_INDEX: [\"medium\", 96.0, 384.0, 8.50, \"g4dn.metal\"],\n",
    "    HIGH_POWER_CLOUD_INDEX: [\"high\", 192.0, 768.0, 10.49, \"m7i.48xlarge\"]\n",
    "}"
   ]
  },
  {
   "cell_type": "code",
   "execution_count": 44,
   "metadata": {
    "executionInfo": {
     "elapsed": 6,
     "status": "ok",
     "timestamp": 1745610523217,
     "user": {
      "displayName": "RHUAN CAMPIDELI BORGES",
      "userId": "09818021635254161805"
     },
     "user_tz": 180
    },
    "id": "Ca_Tlct99UTw"
   },
   "outputs": [],
   "source": [
    "cloud_nodes_list = []\n",
    "current_index = 0"
   ]
  },
  {
   "cell_type": "code",
   "execution_count": 45,
   "metadata": {
    "executionInfo": {
     "elapsed": 25,
     "status": "ok",
     "timestamp": 1745610524284,
     "user": {
      "displayName": "RHUAN CAMPIDELI BORGES",
      "userId": "09818021635254161805"
     },
     "user_tz": 180
    },
    "id": "3mc6bjeC9Wqj"
   },
   "outputs": [],
   "source": [
    "for cloud_node_idx in range(n_cloud_nodes):\n",
    "  cloud_node = CloudNode()\n",
    "  cloud_node.ID = cloud_node_idx\n",
    "  cloud_node.longitude = 48.92744292889152\n",
    "  cloud_node.latitude = 2.353369482741328\n",
    "  cloud_node.power_level = cloud_node_dictionary[cloud_node_idx][0]\n",
    "  cloud_node.processing_capacity = cloud_node_dictionary[cloud_node_idx][1]\n",
    "  cloud_node.memory_capacity = cloud_node_dictionary[cloud_node_idx][2]\n",
    "  cloud_node.cost = cloud_node_dictionary[cloud_node_idx][3]\n",
    "  cloud_node.model = cloud_node_dictionary[cloud_node_idx][4]\n",
    "  cloud_nodes_list.append(cloud_node)"
   ]
  },
  {
   "cell_type": "markdown",
   "metadata": {
    "id": "QfLHl30A4o30"
   },
   "source": [
    "## File pattern"
   ]
  },
  {
   "cell_type": "markdown",
   "metadata": {
    "id": "OlnAkAvV82uR"
   },
   "source": [
    "**\\#begin_instance_info**  \n",
    "*Family* | *defined_value*  \n",
    "*ID* | *defined_value*  \n",
    "*level of number of sensors* | *value (low, medium, high)*  \n",
    "*level of quantity of services per sensor* | *value (low, medium, high)*  \n",
    "*fog to fog network connection density level* | *value (low, medium, high)*      \n",
    "*fog to cloud network connection density level* | *value (low, medium, high)*  \n",
    "*sensors* | *value*    \n",
    "*fog nodes* | *value*  \n",
    "*cloud* | *value*  \n",
    "*services* | *value*  \n",
    "**\\#end_instance_info**  "
   ]
  },
  {
   "cell_type": "code",
   "execution_count": 46,
   "metadata": {
    "executionInfo": {
     "elapsed": 7,
     "status": "ok",
     "timestamp": 1745613287078,
     "user": {
      "displayName": "RHUAN CAMPIDELI BORGES",
      "userId": "09818021635254161805"
     },
     "user_tz": 180
    },
    "id": "jWRh9TkFIWdT"
   },
   "outputs": [],
   "source": [
    "def generateInfoInstance(instance_ID):\n",
    "  #print(str(instance_ID) + \".txt\")\n",
    "  info_instance = \"#begin_instance_info\\n\"\n",
    "  info_instance += \"family\\t\" + \"antwerp\\n\"\n",
    "  info_instance += \"ID\\t\" + str(instance_ID) + \"\\n\"\n",
    "  info_instance += \"level_of_number_of_sensors\\t\" + level_for_selecting_sensor + \"\\n\"\n",
    "  info_instance += \"level_for_selecting_services\\t\" + level_for_selecting_services + \"\\n\"\n",
    "  info_instance += \"fog_to_fog_network_connection_density_level\\t\" + fog_fog_nodes_connection_choice + \"\\n\"\n",
    "  info_instance += \"fog_to_cloud_network_connection_density_level\\t\" + fog_cloud_nodes_connection_choice + \"\\n\"\n",
    "  info_instance += \"sensors\\t\" + str(n_sensors) + \"\\n\"\n",
    "  info_instance += \"fog_nodes\\t\" + str(int(n_fog_nodes)) + \"\\n\"\n",
    "  info_instance += \"cloud_nodes\\t\" + str(n_cloud_nodes) + \"\\n\"\n",
    "  info_instance += \"services\\t\" + str(len(service_dictionary)) + \"\\n\"\n",
    "  info_instance += \"#end_instance_info\\n\"\n",
    "  #print(info_instance)\n",
    "  return info_instance"
   ]
  },
  {
   "cell_type": "markdown",
   "metadata": {
    "id": "2BY52TSpsywe"
   },
   "source": [
    "**\\#begin_sensors**  \n",
    "*index* | *longitude* | *latitude* | *services*   \n",
    "...  \n",
    "**\\#end_sensors**"
   ]
  },
  {
   "cell_type": "code",
   "execution_count": 47,
   "metadata": {
    "executionInfo": {
     "elapsed": 35,
     "status": "ok",
     "timestamp": 1745612292167,
     "user": {
      "displayName": "RHUAN CAMPIDELI BORGES",
      "userId": "09818021635254161805"
     },
     "user_tz": 180
    },
    "id": "osLG9zEZs92j"
   },
   "outputs": [],
   "source": [
    "def generateInfoSensor():\n",
    "  info_sensor = \"#begin_sensors\\n\"\n",
    "  for sensor in sensors_list:\n",
    "    info_sensor += str(sensor.ID) + \"\\t\" + str(sensor.longitude) + \"\\t\" + str(sensor.latitude) + \"\\t\"\n",
    "    for service_idx in range(len(sensor.services)):\n",
    "      info_sensor += str(sensor.services[service_idx].service_type)\n",
    "      if(service_idx < len(sensor.services) - 1):\n",
    "        info_sensor += \"\\t\"\n",
    "    info_sensor += \"\\n\"\n",
    "  info_sensor += \"#end_sensors\\n\"\n",
    "  #print(info_sensor)\n",
    "  return info_sensor"
   ]
  },
  {
   "cell_type": "markdown",
   "metadata": {
    "id": "36lD44gyvFdG"
   },
   "source": [
    "**\\#begin_reach_fog_nodes**   \n",
    "*connection ID* | *sensor ID* | *fog node ID* | *bandwidth(Gbps)* | *cost bandwidth(€/Gbps)*    \n",
    "...   \n",
    "**\\#end_reach_fog_nodes**"
   ]
  },
  {
   "cell_type": "code",
   "execution_count": 48,
   "metadata": {
    "executionInfo": {
     "elapsed": 13,
     "status": "ok",
     "timestamp": 1745612319735,
     "user": {
      "displayName": "RHUAN CAMPIDELI BORGES",
      "userId": "09818021635254161805"
     },
     "user_tz": 180
    },
    "id": "_Lrk9ncevFwv"
   },
   "outputs": [],
   "source": [
    "def generateInfoReachFogNodes():\n",
    "  connection_ID = 0\n",
    "  info_reach_fog_nodes = \"#begin_reach_fog_nodes\\n\"\n",
    "  for sensor in sensors_list:\n",
    "    for fog_node_ID in sensor.reachable_fog_nodes:\n",
    "      info_reach_fog_nodes += str(connection_ID) + \"\\t\" + str(sensor.ID) + \"\\t\" + str(fog_node_ID) + \"\\t\" + str(sensor_bandwidth_dictionary[(sensor.ID, fog_node_ID)]) + \"\\t\" + str(sensor_bandwidth_cost_dictionary[(sensor.ID, fog_node_ID)]) + \"\\n\"\n",
    "      connection_ID += 1\n",
    "  info_reach_fog_nodes += \"#end_reach_fog_nodes\\n\"\n",
    "  #print(info_reach_fog_nodes)\n",
    "  return info_reach_fog_nodes"
   ]
  },
  {
   "cell_type": "markdown",
   "metadata": {
    "id": "Dh6M-gO8zu3x"
   },
   "source": [
    "**\\#begin_fog**  \n",
    "*index* | *longitude* | *latitude* | *processing capacity* | *memory capacity* | *cost* | *model*   \n",
    "...   \n",
    "number of fog to fog connections  \n",
    "*connection id* | *fog node i* | *fog node j* | *bandwidth i-j* | *bandwidth cost* (US\\$/Gbps) | *haversine distance i-j*   \n",
    "...  \n",
    "**\\#end_fog**  "
   ]
  },
  {
   "cell_type": "code",
   "execution_count": 49,
   "metadata": {
    "executionInfo": {
     "elapsed": 26,
     "status": "ok",
     "timestamp": 1745612356712,
     "user": {
      "displayName": "RHUAN CAMPIDELI BORGES",
      "userId": "09818021635254161805"
     },
     "user_tz": 180
    },
    "id": "kVijEEY11HHG"
   },
   "outputs": [],
   "source": [
    "def generateInfoFogNodes():\n",
    "  info_fog_nodes = \"#begin_fog\\n\"\n",
    "  for fog_node in fog_nodes_list:\n",
    "    info_fog_nodes += str(fog_node.ID) + \"\\t\" + str(fog_node.longitude) + \"\\t\" + str(fog_node.latitude) + \"\\t\" + str(fog_node.processing_capacity) + \"\\t\" + str(fog_node.memory_capacity) + \"\\t\" + str(fog_node.cost) + \"\\t\" + fog_node.model + \"\\n\"\n",
    "  link_index = 0\n",
    "  info_fog_nodes += str(len(fog_nodes_network)) + \"\\n\"\n",
    "  for key, value in fog_nodes_network.items():\n",
    "      info_fog_nodes += str(link_index) + \"\\t\" + str(key[0]) + \"\\t\" + str(key[1]) + \"\\t\" + str(value[0]) + \"\\t\" + str(getBandwidthCost(\"(fog,fog)\")) + \"\\t\" + str(value[1]) + \"\\n\"\n",
    "      link_index = link_index + 1\n",
    "  info_fog_nodes += \"#end_fog\\n\"\n",
    "  #print(info_fog_nodes)\n",
    "  return info_fog_nodes"
   ]
  },
  {
   "cell_type": "markdown",
   "metadata": {
    "id": "QS1YLOvx4j17"
   },
   "source": [
    "**\\#begin_cloud**  \n",
    "*index* | *longitude* | *latitude* | *processing capacity* | *memory capacity* | *cost* | *model*  \n",
    "...   \n",
    "*number of cloud node connections with the fog node*    \n",
    "*connection id* | *fog node i* | *cloud node j* | *bandwidth* | *bandwidth cost* | *haversine distance i-j*   \n",
    "...  \n",
    "**\\#end_cloud**  \n"
   ]
  },
  {
   "cell_type": "code",
   "execution_count": 50,
   "metadata": {
    "executionInfo": {
     "elapsed": 9,
     "status": "ok",
     "timestamp": 1745612400224,
     "user": {
      "displayName": "RHUAN CAMPIDELI BORGES",
      "userId": "09818021635254161805"
     },
     "user_tz": 180
    },
    "id": "MMpFvwYP5z-D"
   },
   "outputs": [],
   "source": [
    "def generateInfoCloudNodes():\n",
    "  info_cloud_nodes = \"#begin_cloud\\n\"\n",
    "\n",
    "  CLOUD_BANDWIDTH = 50\n",
    "  fog_cloud_nodes_network = {}\n",
    "\n",
    "  while True:\n",
    "    cloud_node_selected = [False for cloud_node_index in range(len(cloud_nodes_list))]\n",
    "    n_cloud_nodes_selected = 0\n",
    "    for fog_node in fog_nodes_list:\n",
    "      for cloud_node in cloud_nodes_list:\n",
    "        random_number = rd.uniform(0, 1)\n",
    "        if(random_number <= CLOUD_CONNECTION_PROBABILITY):\n",
    "          fog_cloud_nodes_network[(fog_node.ID, cloud_node.ID)] = [CLOUD_BANDWIDTH, getHaversineDistance(fog_node, cloud_node)]\n",
    "          if(not cloud_node_selected[cloud_node.ID]):\n",
    "            cloud_node_selected[cloud_node.ID] = True\n",
    "            n_cloud_nodes_selected = n_cloud_nodes_selected + 1\n",
    "\n",
    "    if(n_cloud_nodes_selected == len(cloud_nodes_list)):\n",
    "      break\n",
    "\n",
    "    else:\n",
    "      fog_cloud_nodes_network = {}\n",
    "\n",
    "  for cloud_node in cloud_nodes_list:\n",
    "    info_cloud_nodes += str(cloud_node.ID) + \"\\t\" + str(cloud_node.longitude) + \"\\t\" + str(cloud_node.latitude) + \"\\t\" + str(cloud_node.processing_capacity) + \"\\t\" + str(cloud_node.memory_capacity) + \"\\t\" + str(cloud_node.cost) + \"\\t\" + cloud_node.model + \"\\n\"\n",
    "\n",
    "  info_cloud_nodes += str(len(fog_cloud_nodes_network)) + \"\\n\"\n",
    "  link_index = 0\n",
    "  for key, value in fog_cloud_nodes_network.items():\n",
    "    info_cloud_nodes += str(link_index) + \"\\t\" + str(key[0]) + \"\\t\" + str(key[1]) + \"\\t\" + str(value[0]) + \"\\t\" + str(getBandwidthCost(\"(fog,cloud)\")) + \"\\t\" + str(value[1]) + \"\\n\"\n",
    "    link_index = link_index + 1\n",
    "  info_cloud_nodes += \"#end_cloud\\n\"\n",
    "  #print(info_cloud_nodes)\n",
    "  return info_cloud_nodes"
   ]
  },
  {
   "cell_type": "markdown",
   "metadata": {
    "id": "mnMcTnWp7jv9"
   },
   "source": [
    "**\\#begin_service**  \n",
    " *name* | *demand* | *memory* | *number of bits*  \n",
    " ...  \n",
    "**\\#end_service**\n"
   ]
  },
  {
   "cell_type": "code",
   "execution_count": 51,
   "metadata": {
    "executionInfo": {
     "elapsed": 7,
     "status": "ok",
     "timestamp": 1745612439387,
     "user": {
      "displayName": "RHUAN CAMPIDELI BORGES",
      "userId": "09818021635254161805"
     },
     "user_tz": 180
    },
    "id": "h-eGZWc27tAu"
   },
   "outputs": [],
   "source": [
    "def generateInfoServices():\n",
    "  min_demanded_bandwidth = 1000000.0\n",
    "  for sensor_ID in sensor_tech_dict:\n",
    "    if(wireless_bandwidth[sensor_tech_dict[sensor_ID]] < min_demanded_bandwidth):\n",
    "      min_demanded_bandwidth = wireless_bandwidth[sensor_tech_dict[sensor_ID]]\n",
    "\n",
    "  info_services = \"#begin_service\\n\"\n",
    "  for service_key in service_dictionary:\n",
    "    info_services += service_key + \"\\t\" + str(service_dictionary[service_key][0]) + \"\\t\" + str(service_dictionary[service_key][1]) + \"\\t\" + str(service_dictionary[service_key][2]) + \"\\t\"  + str(service_dictionary[service_key][3]) + \"\\t\"+ str(min_demanded_bandwidth) + \"\\n\"\n",
    "  info_services += \"#end_service\\n\"\n",
    "  #print(info_services)\n",
    "  return info_services"
   ]
  },
  {
   "cell_type": "markdown",
   "metadata": {
    "id": "d1b0KHVn7_D1"
   },
   "source": [
    "**#begin_requests**\n",
    "\n",
    "***##time_instant_t1***\n",
    "\n",
    "*sensor ID | service index | type of service | request_lifetime*  \n",
    "...  \n",
    "***##time_instant_t2***\n",
    "\n",
    "*sensor ID | service index | type of service | request_lifetime*  \n",
    "...  \n",
    "***#...***\n",
    "\n",
    "**#end_requests**"
   ]
  },
  {
   "cell_type": "code",
   "execution_count": 52,
   "metadata": {
    "executionInfo": {
     "elapsed": 22,
     "status": "ok",
     "timestamp": 1745611214746,
     "user": {
      "displayName": "RHUAN CAMPIDELI BORGES",
      "userId": "09818021635254161805"
     },
     "user_tz": 180
    },
    "id": "T-qOJMS4xnvM"
   },
   "outputs": [],
   "source": [
    "def selectSensors():\n",
    "  global sensors_list\n",
    "  global n_sensors\n",
    "\n",
    "  number_of_sensors_selected = 0\n",
    "  while not number_of_sensors_selected:\n",
    "    sensors_lower_bound = int(lambda_parameter_for_selecting_sensors[0] * n_sensors)\n",
    "    sensors_upper_bound = int(lambda_parameter_for_selecting_sensors[1] * n_sensors)\n",
    "    lambda_avg_sensors = rd.randint(sensors_lower_bound, sensors_upper_bound)\n",
    "    number_of_sensors_selected = min(np.random.poisson(lambda_avg_sensors), len(sensors_list))\n",
    "\n",
    "  index_sample = np.random.choice(len(sensors_list), size=number_of_sensors_selected, replace=False)\n",
    "  selected_sensors = [sensors_list[idx].ID for idx in index_sample]\n",
    "  return selected_sensors"
   ]
  },
  {
   "cell_type": "markdown",
   "metadata": {
    "id": "H5nvgNOQ0Yx8"
   },
   "source": [
    "* Generating services according to the sensor selected"
   ]
  },
  {
   "cell_type": "code",
   "execution_count": 53,
   "metadata": {
    "executionInfo": {
     "elapsed": 20,
     "status": "ok",
     "timestamp": 1745611218215,
     "user": {
      "displayName": "RHUAN CAMPIDELI BORGES",
      "userId": "09818021635254161805"
     },
     "user_tz": 180
    },
    "id": "cz-LIAB70dVV"
   },
   "outputs": [],
   "source": [
    "def generateServices(selected_sensor):\n",
    "  while True:\n",
    "    services_lower_bound = max(1, int(lambda_parameter_for_selecting_services[0] * len(selected_sensor.services)))\n",
    "    services_upper_bound = max(1, int(lambda_parameter_for_selecting_services[1] * len(selected_sensor.services)))\n",
    "    lambda_avg_services = rd.randint(services_lower_bound, services_upper_bound)\n",
    "    number_of_services_selected = min(np.random.poisson(lambda_avg_services), len(selected_sensor.services))\n",
    "    selected_services = np.random.choice(len(selected_sensor.services), size=number_of_services_selected, replace=False)\n",
    "\n",
    "    if(len(selected_services) != 0):\n",
    "      break\n",
    "  return selected_services"
   ]
  },
  {
   "cell_type": "code",
   "execution_count": 54,
   "metadata": {
    "executionInfo": {
     "elapsed": 31,
     "status": "ok",
     "timestamp": 1745612670717,
     "user": {
      "displayName": "RHUAN CAMPIDELI BORGES",
      "userId": "09818021635254161805"
     },
     "user_tz": 180
    },
    "id": "Fk7gPBVTyPoK"
   },
   "outputs": [],
   "source": [
    "def generateInfoInstants():\n",
    "  info_instants = \"\"\n",
    "  info_instants += \"#begin_requests\\n\"\n",
    "  for time_stamp in range(1,time_window+1):\n",
    "    info_instants += \"\\t##time_instant_\" + str(time_stamp) + \"\\n\"\n",
    "    selected_sensors = selectSensors()\n",
    "    for sensor_index in selected_sensors:\n",
    "      selected_services = generateServices(sensors_list[sensor_index])\n",
    "      for service_index in selected_services:\n",
    "        info_instants += \"\\t\\t\" + str(sensor_index) + \"\\t\" + str(service_index) + \"\\t\" + sensors_list[sensor_index].services[service_index].service_type + \"\\t\" + str(sensors_list[sensor_index].services[service_index].lifetime) + \"\\n\"\n",
    "  #print(info_instants)\n",
    "  info_instants += \"#end_requests\\n\"\n",
    "  return info_instants"
   ]
  },
  {
   "cell_type": "markdown",
   "metadata": {
    "id": "q8vBs71190s9"
   },
   "source": [
    "*Printing all info together*"
   ]
  },
  {
   "cell_type": "code",
   "execution_count": 55,
   "metadata": {
    "executionInfo": {
     "elapsed": 1031,
     "status": "ok",
     "timestamp": 1745613317957,
     "user": {
      "displayName": "RHUAN CAMPIDELI BORGES",
      "userId": "09818021635254161805"
     },
     "user_tz": 180
    },
    "id": "27GCjByW94KM"
   },
   "outputs": [
    {
     "ename": "KeyboardInterrupt",
     "evalue": "",
     "output_type": "error",
     "traceback": [
      "\u001b[1;31m---------------------------------------------------------------------------\u001b[0m",
      "\u001b[1;31mKeyboardInterrupt\u001b[0m                         Traceback (most recent call last)",
      "Cell \u001b[1;32mIn[55], line 7\u001b[0m\n\u001b[0;32m      4\u001b[0m     file\u001b[38;5;241m.\u001b[39mwrite(generateInfoInstance(instance_ID) \u001b[38;5;241m+\u001b[39m generateInfoSensor() \u001b[38;5;241m+\u001b[39m generateInfoReachFogNodes() \u001b[38;5;241m+\u001b[39m generateInfoFogNodes() \u001b[38;5;241m+\u001b[39m generateInfoCloudNodes() \u001b[38;5;241m+\u001b[39m generateInfoServices() \u001b[38;5;241m+\u001b[39m generateInfoInstants())\n\u001b[0;32m      6\u001b[0m \u001b[38;5;28;01mfor\u001b[39;00m instance_ID \u001b[38;5;129;01min\u001b[39;00m \u001b[38;5;28mrange\u001b[39m(\u001b[38;5;241m1\u001b[39m, \u001b[38;5;241m4\u001b[39m):\n\u001b[1;32m----> 7\u001b[0m   generateFileInstance(instance_ID)\n",
      "Cell \u001b[1;32mIn[55], line 4\u001b[0m, in \u001b[0;36mgenerateFileInstance\u001b[1;34m(instance_ID)\u001b[0m\n\u001b[0;32m      2\u001b[0m \u001b[38;5;28;01mdef\u001b[39;00m \u001b[38;5;21mgenerateFileInstance\u001b[39m(instance_ID):\n\u001b[0;32m      3\u001b[0m   \u001b[38;5;28;01mwith\u001b[39;00m \u001b[38;5;28mopen\u001b[39m(\u001b[38;5;28mstr\u001b[39m(instance_ID) \u001b[38;5;241m+\u001b[39m \u001b[38;5;124m\"\u001b[39m\u001b[38;5;124m.txt\u001b[39m\u001b[38;5;124m\"\u001b[39m, \u001b[38;5;124m\"\u001b[39m\u001b[38;5;124mw\u001b[39m\u001b[38;5;124m\"\u001b[39m) \u001b[38;5;28;01mas\u001b[39;00m file:\n\u001b[1;32m----> 4\u001b[0m     file\u001b[38;5;241m.\u001b[39mwrite(generateInfoInstance(instance_ID) \u001b[38;5;241m+\u001b[39m generateInfoSensor() \u001b[38;5;241m+\u001b[39m generateInfoReachFogNodes() \u001b[38;5;241m+\u001b[39m generateInfoFogNodes() \u001b[38;5;241m+\u001b[39m generateInfoCloudNodes() \u001b[38;5;241m+\u001b[39m generateInfoServices() \u001b[38;5;241m+\u001b[39m generateInfoInstants())\n",
      "Cell \u001b[1;32mIn[54], line 6\u001b[0m, in \u001b[0;36mgenerateInfoInstants\u001b[1;34m()\u001b[0m\n\u001b[0;32m      4\u001b[0m \u001b[38;5;28;01mfor\u001b[39;00m time_stamp \u001b[38;5;129;01min\u001b[39;00m \u001b[38;5;28mrange\u001b[39m(\u001b[38;5;241m1\u001b[39m,time_window\u001b[38;5;241m+\u001b[39m\u001b[38;5;241m1\u001b[39m):\n\u001b[0;32m      5\u001b[0m   info_instants \u001b[38;5;241m+\u001b[39m\u001b[38;5;241m=\u001b[39m \u001b[38;5;124m\"\u001b[39m\u001b[38;5;130;01m\\t\u001b[39;00m\u001b[38;5;124m##time_instant_\u001b[39m\u001b[38;5;124m\"\u001b[39m \u001b[38;5;241m+\u001b[39m \u001b[38;5;28mstr\u001b[39m(time_stamp) \u001b[38;5;241m+\u001b[39m \u001b[38;5;124m\"\u001b[39m\u001b[38;5;130;01m\\n\u001b[39;00m\u001b[38;5;124m\"\u001b[39m\n\u001b[1;32m----> 6\u001b[0m   selected_sensors \u001b[38;5;241m=\u001b[39m selectSensors()\n\u001b[0;32m      7\u001b[0m   \u001b[38;5;28;01mfor\u001b[39;00m sensor_index \u001b[38;5;129;01min\u001b[39;00m selected_sensors:\n\u001b[0;32m      8\u001b[0m     selected_services \u001b[38;5;241m=\u001b[39m generateServices(sensors_list[sensor_index])\n",
      "Cell \u001b[1;32mIn[52], line 10\u001b[0m, in \u001b[0;36mselectSensors\u001b[1;34m()\u001b[0m\n\u001b[0;32m      8\u001b[0m   sensors_upper_bound \u001b[38;5;241m=\u001b[39m \u001b[38;5;28mint\u001b[39m(lambda_parameter_for_selecting_sensors[\u001b[38;5;241m1\u001b[39m] \u001b[38;5;241m*\u001b[39m n_sensors)\n\u001b[0;32m      9\u001b[0m   lambda_avg_sensors \u001b[38;5;241m=\u001b[39m rd\u001b[38;5;241m.\u001b[39mrandint(sensors_lower_bound, sensors_upper_bound)\n\u001b[1;32m---> 10\u001b[0m   number_of_sensors_selected \u001b[38;5;241m=\u001b[39m \u001b[38;5;28mmin\u001b[39m(np\u001b[38;5;241m.\u001b[39mrandom\u001b[38;5;241m.\u001b[39mpoisson(lambda_avg_sensors), \u001b[38;5;28mlen\u001b[39m(sensors_list))\n\u001b[0;32m     12\u001b[0m index_sample \u001b[38;5;241m=\u001b[39m np\u001b[38;5;241m.\u001b[39mrandom\u001b[38;5;241m.\u001b[39mchoice(\u001b[38;5;28mlen\u001b[39m(sensors_list), size\u001b[38;5;241m=\u001b[39mnumber_of_sensors_selected, replace\u001b[38;5;241m=\u001b[39m\u001b[38;5;28;01mFalse\u001b[39;00m)\n\u001b[0;32m     13\u001b[0m selected_sensors \u001b[38;5;241m=\u001b[39m [sensors_list[idx]\u001b[38;5;241m.\u001b[39mID \u001b[38;5;28;01mfor\u001b[39;00m idx \u001b[38;5;129;01min\u001b[39;00m index_sample]\n",
      "\u001b[1;31mKeyboardInterrupt\u001b[0m: "
     ]
    }
   ],
   "source": [
    "#print(info_instance + info_sensor + info_reach_fog_nodes + info_fog_nodes + info_cloud_nodes + info_services + info_instants)\n",
    "def generateFileInstance(instance_ID):\n",
    "  with open(str(instance_ID) + \".txt\", \"w\") as file:\n",
    "    file.write(generateInfoInstance(instance_ID) + generateInfoSensor() + generateInfoReachFogNodes() + generateInfoFogNodes() + generateInfoCloudNodes() + generateInfoServices() + generateInfoInstants())\n",
    "\n",
    "for instance_ID in range(1, 4):\n",
    "  generateFileInstance(instance_ID)"
   ]
  },
  {
   "cell_type": "markdown",
   "metadata": {
    "id": "Vc1Np6Wq4B7j",
    "jp-MarkdownHeadingCollapsed": true
   },
   "source": [
    "## Other information\n",
    "\n",
    "* Reachability from a sensor $s$ to a fog node $f$ is defined by the network technology ($2G$, $3G$, $4G$, $5G$, and $6G$).    \n",
    "* The bandwidth between the highest degree fog node and the cloud nodes is $50\\,Gbit/s$.  \n",
    "* $delay(i,j) = lateness(i,j) + propag(i,j)$, where:\n",
    "  * $lateness(i,j)$: time spent sending data between nodes $i$ and $j$ of the network, given by (number of bits transmitted / transmission speed between i and j). In this case, the transmission speed is defined by the network technology used.\n",
    "  * $propag(i,j)$: time required to propagate the data bits between points $i$ and $j$ of the network. Calculated by the ratio of the **Haversine** distance between points $i$ and $j$, and the propagation speed in the medium (approx. $2\\times {10}^8$ *m/s*).  \n",
    "* $dproc(i)$ is the execution time to process a demand from a sensor. If the node $i$ (fog or cloud) only receives and sends the demand to another node, then we adopt $dproc(i) = 0.002ms$. However, if the node $i$ processes a demand of a sensor, then its spends $dproc(i) = 5ms$ per sensor request. These values are extracted from \"Araújo, S.M.A., Moreira, M.C.O., Mateus, G.R. (2024). *Alocação de Recursos em Edge e Cloud Computing para Atender Dispositivos IoT: Uma Análise Rumo ao 6G*. In: Anais do Simósio Brasileiro de Redes de Computadores e Sistemas Distribuídos. Niterói, Brasil.\""
   ]
  },
  {
   "cell_type": "markdown",
   "metadata": {
    "id": "MzX9DW4tBF0O"
   },
   "source": [
    "## References\n",
    "\n",
    "* M. Alsabah, M. A. Naser, B. M. Mahmmod, S. H. Abdulhussain, M. R.\n",
    "Eissa, A. Al-Baidhani, N. K. Noordin, S. M. Sait, K. A. Al-Utaibi, and F. Hashim, \"6G Wireless Communications Networks: A Comprehensive\n",
    "Survey,\" IEEE Access, vol. 9, 2021.   \n",
    "\n",
    "* C. D. Alwis, A. Kalla, Q.-V. Pham, P. Kumar, K. Dev, W.-J. Hwang, and M. Liyanage, “Survey on 6G Frontiers: Trends, Applications, Requirements, Technologies and Future Research,” IEEE Open Journal of the Communications Society, vol. 2, pp. 836–886, 2021.   \n",
    "\n",
    "* Four-Faith, “5Ghz WiFi Router Range Standard,” Xiamen Four-\n",
    "Faith Communication Technology Co. Ltd, 2022, Online; accessed in\n",
    "12/20/2023, available at [https://tinyurl.com/26uxovab](https://tinyurl.com/26uxovab).\n",
    "\n",
    "* J. Santos, T. Wauters, B. Volckaert, and F. De Turck, \"Towards end-to-end resource provisioning in fog computing over low power wide area networks,\" Journal of Network and Computer Applications, vol. 175, p.102915, 2021  .   \n",
    "\n",
    "* A. F. M. S. Shah, A. N. Qasim, M. A. Karabulut, H. Ilhan, and M. B. Islam, \"Survey and performance evaluation of multiple access schemes for next-generation wireless communication systems,\" IEEE Access, vol. 9, pp. 113 428–113 442, 2021.\n"
   ]
  }
 ],
 "metadata": {
  "colab": {
   "name": "",
   "version": ""
  },
  "kernelspec": {
   "display_name": "Python 3 (ipykernel)",
   "language": "python",
   "name": "python3"
  },
  "language_info": {
   "codemirror_mode": {
    "name": "ipython",
    "version": 3
   },
   "file_extension": ".py",
   "mimetype": "text/x-python",
   "name": "python",
   "nbconvert_exporter": "python",
   "pygments_lexer": "ipython3",
   "version": "3.12.3"
  }
 },
 "nbformat": 4,
 "nbformat_minor": 4
}
