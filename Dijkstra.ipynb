{
 "cells": [
  {
   "cell_type": "code",
   "execution_count": 13,
   "id": "dbd62b0a-a1fa-4304-8f5a-cffc84a1ee98",
   "metadata": {},
   "outputs": [
    {
     "name": "stdout",
     "output_type": "stream",
     "text": [
      "None\n",
      "2\n"
     ]
    }
   ],
   "source": [
    "class NetworkNode:\n",
    "    ID = None\n",
    "    latitude = None\n",
    "    longitude = None\n",
    "    def setID(self,id):\n",
    "        self.ID = id\n",
    "    def getID(self):\n",
    "        return self.ID\n",
    "    def setLatitude(self,latitude):\n",
    "        self.latitude = latitude\n",
    "    def getLatitude(self):\n",
    "        return self.latitude\n",
    "    def setLongitude(self,longitude):\n",
    "        self.longitude = longitude\n",
    "    def getLongitude(self):\n",
    "        return self.longitude\n",
    "\n",
    "class FogCloudNode(NetworkNode):\n",
    "    power_level = None\n",
    "    model = None\n",
    "    processing_capacity = None\n",
    "    memory_capacity = None\n",
    "    cost = None\n",
    "\n",
    "class FogNode(FogCloudNode):\n",
    "    pass\n",
    "\n",
    "class CloudNode(FogCloudNode):\n",
    "    pass\n",
    "\n",
    "class Service:\n",
    "    service_type = None\n",
    "    processing_demand = None\n",
    "    memory_demand = None\n",
    "    number_of_bits = None\n",
    "    lifetime = None\n",
    "\n",
    "class Sensor(NetworkNode):\n",
    "    services = None\n",
    "    reachable_fog_nodes = None\n",
    "\n",
    "teste = NetworkNode()\n",
    "res = teste.getID()\n",
    "print(res)\n",
    "teste.setID(2)\n",
    "print(teste.getID())"
   ]
  },
  {
   "cell_type": "code",
   "execution_count": null,
   "id": "632285fd-d119-4c14-86d0-46da51894863",
   "metadata": {},
   "outputs": [],
   "source": []
  }
 ],
 "metadata": {
  "kernelspec": {
   "display_name": "Python 3 (ipykernel)",
   "language": "python",
   "name": "python3"
  },
  "language_info": {
   "codemirror_mode": {
    "name": "ipython",
    "version": 3
   },
   "file_extension": ".py",
   "mimetype": "text/x-python",
   "name": "python",
   "nbconvert_exporter": "python",
   "pygments_lexer": "ipython3",
   "version": "3.12.3"
  }
 },
 "nbformat": 4,
 "nbformat_minor": 5
}
